{
  "nbformat": 4,
  "nbformat_minor": 0,
  "metadata": {
    "colab": {
      "provenance": [],
      "toc_visible": true,
      "authorship_tag": "ABX9TyOq4asrRLiNI1RKMjhUcxsT",
      "include_colab_link": true
    },
    "kernelspec": {
      "name": "python3",
      "display_name": "Python 3"
    },
    "language_info": {
      "name": "python"
    }
  },
  "cells": [
    {
      "cell_type": "markdown",
      "metadata": {
        "id": "view-in-github",
        "colab_type": "text"
      },
      "source": [
        "<a href=\"https://colab.research.google.com/github/midnightripper/accuracy_improvement/blob/main/VAE-with_appropriate_bottlenecking.ipynb\" target=\"_parent\"><img src=\"https://colab.research.google.com/assets/colab-badge.svg\" alt=\"Open In Colab\"/></a>"
      ]
    },
    {
      "cell_type": "code",
      "execution_count": 1,
      "metadata": {
        "colab": {
          "base_uri": "https://localhost:8080/"
        },
        "id": "5n4W5sADBnfx",
        "outputId": "846f74bd-24b2-4ce8-de9a-54c8243cc383"
      },
      "outputs": [
        {
          "output_type": "stream",
          "name": "stdout",
          "text": [
            "Drive already mounted at /content/drive; to attempt to forcibly remount, call drive.mount(\"/content/drive\", force_remount=True).\n"
          ]
        }
      ],
      "source": [
        "from google.colab import drive\n",
        "drive.mount('/content/drive')"
      ]
    },
    {
      "cell_type": "markdown",
      "metadata": {
        "id": "lTuKWTvUCDYg"
      },
      "source": [
        "###Prerequisite"
      ]
    },
    {
      "cell_type": "code",
      "execution_count": 2,
      "metadata": {
        "colab": {
          "base_uri": "https://localhost:8080/"
        },
        "id": "pd7zXfrBBvqM",
        "outputId": "0fda97cc-29c5-4e8c-d1c6-c273a34fb709"
      },
      "outputs": [
        {
          "output_type": "stream",
          "name": "stdout",
          "text": [
            "Looking in indexes: https://pypi.org/simple, https://us-python.pkg.dev/colab-wheels/public/simple/\n",
            "Requirement already satisfied: tensorflow-addons in /usr/local/lib/python3.9/dist-packages (0.20.0)\n",
            "Requirement already satisfied: packaging in /usr/local/lib/python3.9/dist-packages (from tensorflow-addons) (23.0)\n",
            "Requirement already satisfied: typeguard<3.0.0,>=2.7 in /usr/local/lib/python3.9/dist-packages (from tensorflow-addons) (2.13.3)\n"
          ]
        }
      ],
      "source": [
        "pip install tensorflow-addons"
      ]
    },
    {
      "cell_type": "code",
      "execution_count": 3,
      "metadata": {
        "id": "O7F71cx6BwQW",
        "colab": {
          "base_uri": "https://localhost:8080/"
        },
        "outputId": "3561dc85-8314-4256-b2da-216955f088ec"
      },
      "outputs": [
        {
          "output_type": "stream",
          "name": "stderr",
          "text": [
            "/usr/local/lib/python3.9/dist-packages/tensorflow_addons/utils/tfa_eol_msg.py:23: UserWarning: \n",
            "\n",
            "TensorFlow Addons (TFA) has ended development and introduction of new features.\n",
            "TFA has entered a minimal maintenance and release mode until a planned end of life in May 2024.\n",
            "Please modify downstream libraries to take dependencies from other repositories in our TensorFlow community (e.g. Keras, Keras-CV, and Keras-NLP). \n",
            "\n",
            "For more information see: https://github.com/tensorflow/addons/issues/2807 \n",
            "\n",
            "  warnings.warn(\n"
          ]
        }
      ],
      "source": [
        "import numpy as np\n",
        "import tensorflow as tf\n",
        "import tensorflow_addons as tfa\n",
        "import scipy.io as sio\n",
        "import pandas as pd\n",
        "import matplotlib.pyplot as plt\n",
        "\n",
        "from tensorflow import keras\n",
        "from tensorflow.keras import layers\n",
        "from tensorflow.keras.models import Sequential\n",
        "from tensorflow.keras.layers import Conv1D, MaxPooling1D, Flatten, Dense\n",
        "from tensorflow.keras.models import Model\n",
        "from sklearn.preprocessing import StandardScaler\n",
        "from keras.models import Sequential\n",
        "from keras.layers import Activation\n",
        "from keras.layers import Input\n",
        "from keras.layers import Reshape\n",
        "from tensorflow.keras import backend as K"
      ]
    },
    {
      "cell_type": "markdown",
      "metadata": {
        "id": "uzQisdLRCdAm"
      },
      "source": [
        "Load the train and test data splits"
      ]
    },
    {
      "cell_type": "code",
      "execution_count": 4,
      "metadata": {
        "id": "c4yofhKpCPsk"
      },
      "outputs": [],
      "source": [
        "GER_test = (np.array(sio.loadmat('/content/drive/MyDrive/training data/GER_test.mat')['GER_test'])).transpose()\n",
        "GER_train = (np.array(sio.loadmat('/content/drive/MyDrive/training data/GER_train.mat')['GER_train'])).transpose()\n",
        "test_frame = pd.DataFrame(GER_test).sort_values(1)\n",
        "train_frame = pd.DataFrame(GER_train).sort_values(1)"
      ]
    },
    {
      "cell_type": "code",
      "execution_count": 5,
      "metadata": {
        "colab": {
          "base_uri": "https://localhost:8080/"
        },
        "id": "4HDdLVz2ChJF",
        "outputId": "cfdd1f89-d95c-4b87-e68e-ce66ea61272d"
      },
      "outputs": [
        {
          "output_type": "stream",
          "name": "stdout",
          "text": [
            "x_train shape: (6981, 21) - y_train shape: (6981, 21)\n",
            "x_test shape: (6248, 21) - y_test shape: (6248, 21)\n"
          ]
        }
      ],
      "source": [
        "print(f\"x_train shape: {GER_train.shape} - y_train shape: {GER_train.shape}\")\n",
        "print(f\"x_test shape: {GER_test.shape} - y_test shape: {GER_test.shape}\")"
      ]
    },
    {
      "cell_type": "code",
      "execution_count": 6,
      "metadata": {
        "id": "QKt4urE1O7ke"
      },
      "outputs": [],
      "source": [
        "def get_data_labels(split):\n",
        "    x = pd.DataFrame(split)\n",
        "    labels = x[0].values.astype(np.uint8)\n",
        "    del x[0],x[1]\n",
        "    data = x.values \n",
        "    return data, labels\n",
        "    \n",
        "x_train, y_train = get_data_labels(train_frame.values.tolist())\n",
        "x_test, y_test = get_data_labels(test_frame.values.tolist())"
      ]
    },
    {
      "cell_type": "code",
      "source": [
        "df = pd.DataFrame(x_train)\n",
        "scaler = StandardScaler()\n",
        "x_train = pd.DataFrame(scaler.fit_transform(df), columns=df.columns)"
      ],
      "metadata": {
        "id": "LiyxoXMIajC_"
      },
      "execution_count": 7,
      "outputs": []
    },
    {
      "cell_type": "code",
      "source": [
        "df2 = pd.DataFrame(x_test)\n",
        "scaler = StandardScaler()\n",
        "x_test = pd.DataFrame(scaler.fit_transform(df2), columns=df.columns)"
      ],
      "metadata": {
        "id": "4PVlJpiAb1Xq"
      },
      "execution_count": 8,
      "outputs": []
    },
    {
      "cell_type": "code",
      "source": [
        "print(f\"Size of the training set: {len(x_train)}\")"
      ],
      "metadata": {
        "colab": {
          "base_uri": "https://localhost:8080/"
        },
        "id": "VNcb5GGX3-RC",
        "outputId": "9eb273d4-02dd-4c86-a276-4c6a98b40315"
      },
      "execution_count": 9,
      "outputs": [
        {
          "output_type": "stream",
          "name": "stdout",
          "text": [
            "Size of the training set: 6981\n"
          ]
        }
      ]
    },
    {
      "cell_type": "code",
      "source": [
        "from sklearn.model_selection import train_test_split\n",
        "\n",
        "x_train, x_val, y_train, y_val = train_test_split(x_train, y_train, test_size=0.2, random_state=42)\n",
        "\n",
        "print(f\"Size of the x training set: {len(x_train)}\")\n",
        "print(f\"Size of the x validation set: {len(x_val)}\")\n",
        "print(f\"Size of the y training set: {len(y_train)}\")\n",
        "print(f\"Size of the y validation set: {len(y_val)}\")"
      ],
      "metadata": {
        "colab": {
          "base_uri": "https://localhost:8080/"
        },
        "id": "P8QrrTLl3Vck",
        "outputId": "e0cb6885-f95d-410e-ae39-79aca20f377c"
      },
      "execution_count": 10,
      "outputs": [
        {
          "output_type": "stream",
          "name": "stdout",
          "text": [
            "Size of the x training set: 5584\n",
            "Size of the x validation set: 1397\n",
            "Size of the y training set: 5584\n",
            "Size of the y validation set: 1397\n"
          ]
        }
      ]
    },
    {
      "cell_type": "markdown",
      "source": [
        "Early stopping to prevent over-fitting"
      ],
      "metadata": {
        "id": "NDyM8dez-mGw"
      }
    },
    {
      "cell_type": "code",
      "source": [
        "es = tf.keras.callbacks.EarlyStopping(monitor='val_loss', mode='min', verbose=1, patience=10)"
      ],
      "metadata": {
        "id": "g8hamCaPnco_"
      },
      "execution_count": 11,
      "outputs": []
    },
    {
      "cell_type": "code",
      "source": [
        "def loss(outputs,inputs,z_log_var,z_mean):\n",
        "  reconstruction_loss = K.mean(K.square(outputs - inputs), axis=-1)\n",
        "  kl_loss = -0.5 * K.sum(1 + z_log_var - K.square(z_mean) - K.exp(z_log_var), axis=-1)\n",
        "  vae_loss = K.mean(reconstruction_loss + kl_loss)\n",
        "  return vae_loss"
      ],
      "metadata": {
        "id": "pj8xwKEf-Qsk"
      },
      "execution_count": 12,
      "outputs": []
    },
    {
      "cell_type": "markdown",
      "source": [
        "\n",
        "\n",
        "\n",
        "\n",
        "# Function Calls"
      ],
      "metadata": {
        "id": "9yq9R7CC9ZZ8"
      }
    },
    {
      "cell_type": "code",
      "source": [
        "input_shape = (19,)"
      ],
      "metadata": {
        "id": "t-_jwVqoJgTE"
      },
      "execution_count": 13,
      "outputs": []
    },
    {
      "cell_type": "code",
      "source": [
        "def sampling(args):\n",
        "    z_mean, z_log_var = args\n",
        "    eps = tf.random.normal(tf.shape(z_log_var), dtype=tf.float32, mean=0., stddev=1. , name='epsilon')\n",
        "    z = z_mean + tf.exp(z_log_var / 2) * eps\n",
        "    return z"
      ],
      "metadata": {
        "id": "yNoxPkfF8qUr"
      },
      "execution_count": 14,
      "outputs": []
    },
    {
      "cell_type": "code",
      "source": [
        "inputs = keras.layers.Input(shape=input_shape, name='input')\n",
        "x = keras.layers.Dense(32, activation='relu')(inputs)\n",
        "x = keras.layers.Dense(16, activation='relu')(x)\n",
        "z_mean = keras.layers.Dense(8, name='z_mean')(x)\n",
        "z_log_var = keras.layers.Dense(8, name='z_log_var')(x)"
      ],
      "metadata": {
        "id": "05L3ufM33CIC"
      },
      "execution_count": 15,
      "outputs": []
    },
    {
      "cell_type": "markdown",
      "source": [
        "# Decoder"
      ],
      "metadata": {
        "id": "f8zXzzoi9yVZ"
      }
    },
    {
      "cell_type": "code",
      "source": [
        "def sampling(args):\n",
        "    z_mean, z_log_var = args\n",
        "    eps = tf.random.normal(tf.shape(z_log_var), dtype=tf.float32, mean=0., stddev=1 , name='epsilon')\n",
        "    z = z_mean + tf.exp(z_log_var / 2) * eps\n",
        "    return z\n",
        "\n",
        "\n",
        "#Giving input to decoder and initialising shape\n",
        "z = keras.layers.Lambda(sampling, name='z')([z_mean, z_log_var])\n",
        "encoder = keras.Model(inputs, [z_mean, z_log_var, z], name='encoder')\n",
        "#decoder\n",
        "latent_inputs = keras.layers.Input(shape=(8), name='z_sampling')\n",
        "x = keras.layers.Dense(16, activation='relu')(latent_inputs)\n",
        "x = keras.layers.Dense(32, activation='relu')(x)\n",
        "x = keras.layers.Dense(19, activation='relu')(x)\n",
        "\n",
        "# instantiate decoder model\n",
        "decoder = keras.Model(latent_inputs, x, name='decoder')\n",
        "outputs = decoder(encoder(inputs)[2])  # Select the Z value from outputs of the encoder\n",
        "vae = keras.Model(inputs, outputs, name='vae')\n",
        "\n",
        "autoencoder = Model(inputs, outputs)\n",
        "autoencoder.add_loss(loss(outputs,inputs,z_log_var,z_mean))\n",
        "autoencoder.compile(optimizer='adam')\n",
        "\n",
        "history = autoencoder.fit(x_train, x_train,\n",
        "                epochs=200,\n",
        "                batch_size=128,\n",
        "                shuffle=True,\n",
        "                validation_data=(x_val,x_val),callbacks=[es])"
      ],
      "metadata": {
        "id": "yuxKxPh74BnA",
        "colab": {
          "base_uri": "https://localhost:8080/"
        },
        "outputId": "d81c6adc-0e48-4642-9397-6e3de679a25a"
      },
      "execution_count": null,
      "outputs": [
        {
          "output_type": "stream",
          "name": "stdout",
          "text": [
            "Epoch 1/200\n",
            "44/44 [==============================] - 2s 10ms/step - loss: 1.7894 - val_loss: 1.2813\n",
            "Epoch 2/200\n",
            "44/44 [==============================] - 0s 3ms/step - loss: 1.1382 - val_loss: 1.1134\n",
            "Epoch 3/200\n",
            "44/44 [==============================] - 0s 4ms/step - loss: 1.0536 - val_loss: 1.0686\n",
            "Epoch 4/200\n",
            "44/44 [==============================] - 0s 4ms/step - loss: 1.0242 - val_loss: 1.0511\n",
            "Epoch 5/200\n",
            "44/44 [==============================] - 0s 4ms/step - loss: 1.0125 - val_loss: 1.0423\n",
            "Epoch 6/200\n",
            "44/44 [==============================] - 0s 4ms/step - loss: 1.0047 - val_loss: 1.0379\n",
            "Epoch 7/200\n",
            "44/44 [==============================] - 0s 7ms/step - loss: 1.0024 - val_loss: 1.0347\n",
            "Epoch 8/200\n",
            "44/44 [==============================] - 0s 4ms/step - loss: 0.9987 - val_loss: 1.0329\n",
            "Epoch 9/200\n",
            "44/44 [==============================] - 0s 3ms/step - loss: 0.9977 - val_loss: 1.0316\n",
            "Epoch 10/200\n",
            "44/44 [==============================] - 0s 4ms/step - loss: 0.9942 - val_loss: 1.0307\n",
            "Epoch 11/200\n",
            "44/44 [==============================] - 0s 4ms/step - loss: 0.9950 - val_loss: 1.0301\n",
            "Epoch 12/200\n",
            "44/44 [==============================] - 0s 4ms/step - loss: 0.9965 - val_loss: 1.0297\n",
            "Epoch 13/200\n",
            "44/44 [==============================] - 0s 3ms/step - loss: 0.9934 - val_loss: 1.0295\n",
            "Epoch 14/200\n",
            "44/44 [==============================] - 0s 4ms/step - loss: 0.9952 - val_loss: 1.0292\n",
            "Epoch 15/200\n",
            "44/44 [==============================] - 0s 3ms/step - loss: 0.9941 - val_loss: 1.0290\n",
            "Epoch 16/200\n",
            "44/44 [==============================] - 0s 3ms/step - loss: 0.9939 - val_loss: 1.0289\n",
            "Epoch 17/200\n",
            "44/44 [==============================] - 0s 3ms/step - loss: 0.9945 - val_loss: 1.0288\n",
            "Epoch 18/200\n",
            "44/44 [==============================] - 0s 5ms/step - loss: 0.9935 - val_loss: 1.0287\n",
            "Epoch 19/200\n",
            "44/44 [==============================] - 0s 4ms/step - loss: 0.9936 - val_loss: 1.0287\n",
            "Epoch 20/200\n",
            "44/44 [==============================] - 0s 4ms/step - loss: 0.9930 - val_loss: 1.0286\n",
            "Epoch 21/200\n",
            "44/44 [==============================] - 0s 4ms/step - loss: 0.9920 - val_loss: 1.0286\n",
            "Epoch 22/200\n",
            "44/44 [==============================] - 0s 4ms/step - loss: 0.9913 - val_loss: 1.0285\n",
            "Epoch 23/200\n",
            "44/44 [==============================] - 0s 3ms/step - loss: 0.9945 - val_loss: 1.0285\n",
            "Epoch 24/200\n",
            "44/44 [==============================] - 0s 5ms/step - loss: 0.9933 - val_loss: 1.0285\n",
            "Epoch 25/200\n",
            "44/44 [==============================] - 0s 3ms/step - loss: 0.9942 - val_loss: 1.0284\n",
            "Epoch 26/200\n",
            "44/44 [==============================] - 0s 4ms/step - loss: 0.9934 - val_loss: 1.0284\n",
            "Epoch 27/200\n",
            "44/44 [==============================] - 0s 3ms/step - loss: 0.9946 - val_loss: 1.0284\n",
            "Epoch 28/200\n",
            "44/44 [==============================] - 0s 4ms/step - loss: 0.9932 - val_loss: 1.0284\n",
            "Epoch 29/200\n",
            "44/44 [==============================] - 0s 3ms/step - loss: 0.9936 - val_loss: 1.0284\n",
            "Epoch 30/200\n",
            "44/44 [==============================] - 1s 12ms/step - loss: 0.9949 - val_loss: 1.0283\n",
            "Epoch 31/200\n",
            "44/44 [==============================] - 0s 10ms/step - loss: 0.9944 - val_loss: 1.0284\n",
            "Epoch 32/200\n",
            "44/44 [==============================] - 0s 9ms/step - loss: 0.9922 - val_loss: 1.0283\n",
            "Epoch 33/200\n",
            "44/44 [==============================] - 0s 11ms/step - loss: 0.9931 - val_loss: 1.0283\n",
            "Epoch 34/200\n",
            "44/44 [==============================] - 0s 10ms/step - loss: 0.9949 - val_loss: 1.0283\n",
            "Epoch 35/200\n",
            "44/44 [==============================] - 1s 12ms/step - loss: 0.9936 - val_loss: 1.0283\n",
            "Epoch 36/200\n",
            "44/44 [==============================] - 1s 15ms/step - loss: 0.9962 - val_loss: 1.0283\n",
            "Epoch 37/200\n",
            "44/44 [==============================] - 1s 16ms/step - loss: 0.9932 - val_loss: 1.0283\n",
            "Epoch 38/200\n",
            "44/44 [==============================] - 1s 14ms/step - loss: 0.9929 - val_loss: 1.0283\n",
            "Epoch 39/200\n",
            "44/44 [==============================] - 1s 13ms/step - loss: 0.9924 - val_loss: 1.0283\n",
            "Epoch 40/200\n",
            "44/44 [==============================] - 0s 10ms/step - loss: 0.9937 - val_loss: 1.0282\n",
            "Epoch 41/200\n",
            "44/44 [==============================] - 0s 7ms/step - loss: 0.9924 - val_loss: 1.0282\n",
            "Epoch 42/200\n",
            "44/44 [==============================] - 0s 7ms/step - loss: 0.9926 - val_loss: 1.0282\n",
            "Epoch 43/200\n",
            "44/44 [==============================] - 0s 8ms/step - loss: 0.9923 - val_loss: 1.0282\n",
            "Epoch 44/200\n",
            "44/44 [==============================] - 0s 8ms/step - loss: 0.9937 - val_loss: 1.0282\n",
            "Epoch 45/200\n",
            "44/44 [==============================] - 0s 8ms/step - loss: 0.9925 - val_loss: 1.0282\n",
            "Epoch 46/200\n",
            "44/44 [==============================] - 0s 7ms/step - loss: 0.9933 - val_loss: 1.0282\n",
            "Epoch 47/200\n",
            "44/44 [==============================] - 0s 11ms/step - loss: 0.9937 - val_loss: 1.0282\n",
            "Epoch 48/200\n",
            "44/44 [==============================] - 0s 7ms/step - loss: 0.9934 - val_loss: 1.0282\n",
            "Epoch 49/200\n",
            "44/44 [==============================] - 0s 6ms/step - loss: 0.9924 - val_loss: 1.0282\n",
            "Epoch 50/200\n",
            "44/44 [==============================] - 0s 7ms/step - loss: 0.9921 - val_loss: 1.0282\n",
            "Epoch 51/200\n",
            "44/44 [==============================] - 0s 7ms/step - loss: 0.9927 - val_loss: 1.0282\n",
            "Epoch 52/200\n",
            "44/44 [==============================] - 0s 10ms/step - loss: 0.9946 - val_loss: 1.0282\n",
            "Epoch 53/200\n",
            "44/44 [==============================] - 1s 12ms/step - loss: 0.9936 - val_loss: 1.0282\n",
            "Epoch 54/200\n",
            "44/44 [==============================] - 0s 8ms/step - loss: 0.9921 - val_loss: 1.0282\n",
            "Epoch 55/200\n",
            "44/44 [==============================] - 0s 9ms/step - loss: 0.9912 - val_loss: 1.0282\n",
            "Epoch 56/200\n",
            "44/44 [==============================] - 0s 9ms/step - loss: 0.9919 - val_loss: 1.0282\n",
            "Epoch 57/200\n",
            "44/44 [==============================] - 0s 8ms/step - loss: 0.9922 - val_loss: 1.0282\n",
            "Epoch 58/200\n",
            "44/44 [==============================] - 0s 8ms/step - loss: 0.9921 - val_loss: 1.0282\n",
            "Epoch 59/200\n",
            "44/44 [==============================] - 0s 10ms/step - loss: 0.9921 - val_loss: 1.0282\n",
            "Epoch 60/200\n",
            "44/44 [==============================] - 0s 8ms/step - loss: 0.9923 - val_loss: 1.0282\n",
            "Epoch 61/200\n",
            "44/44 [==============================] - 0s 11ms/step - loss: 0.9926 - val_loss: 1.0282\n",
            "Epoch 62/200\n",
            "44/44 [==============================] - 0s 8ms/step - loss: 0.9947 - val_loss: 1.0282\n",
            "Epoch 63/200\n",
            "44/44 [==============================] - 1s 12ms/step - loss: 0.9936 - val_loss: 1.0282\n",
            "Epoch 64/200\n",
            "44/44 [==============================] - 0s 9ms/step - loss: 0.9924 - val_loss: 1.0282\n",
            "Epoch 65/200\n",
            "44/44 [==============================] - 0s 10ms/step - loss: 0.9929 - val_loss: 1.0282\n",
            "Epoch 66/200\n",
            "44/44 [==============================] - 1s 18ms/step - loss: 0.9940 - val_loss: 1.0282\n",
            "Epoch 67/200\n",
            "44/44 [==============================] - 1s 13ms/step - loss: 0.9934 - val_loss: 1.0282\n",
            "Epoch 68/200\n",
            "44/44 [==============================] - 1s 15ms/step - loss: 0.9929 - val_loss: 1.0282\n",
            "Epoch 69/200\n",
            "22/44 [==============>...............] - ETA: 0s - loss: 0.9846"
          ]
        }
      ]
    },
    {
      "cell_type": "code",
      "source": [
        "encoder = Model(inputs, z)\n",
        "encoder.trainable = False\n",
        "encoder.summary()"
      ],
      "metadata": {
        "id": "JtyXO1FXi3Dz"
      },
      "execution_count": null,
      "outputs": []
    },
    {
      "cell_type": "code",
      "source": [
        "import matplotlib.pyplot as plt\n",
        "from sklearn.manifold import TSNE\n",
        "from keras.layers import Input, Dense\n",
        "from keras.models import Model\n",
        "import seaborn as sns"
      ],
      "metadata": {
        "id": "vV4Z4NUpPdt6"
      },
      "execution_count": null,
      "outputs": []
    },
    {
      "cell_type": "code",
      "source": [
        "encoded_data = encoder.predict(x_train)\n",
        "print(encoded_data.shape)\n",
        "tsne = TSNE(n_components=2, verbose=1, random_state=123)\n",
        "z = tsne.fit_transform(encoded_data)\n",
        "df = pd.DataFrame()\n",
        "df[\"y\"] = y_train\n",
        "df[\"comp-1\"] = z[:,0]\n",
        "df[\"comp-2\"] = z[:,1]\n",
        "\n",
        "sns.scatterplot(x=\"comp-1\", y=\"comp-2\", hue=df.y.tolist(),\n",
        "                palette=sns.color_palette(\"hls\", 10),\n",
        "                data=df).set(title=\"Encoder T-SNE projection\")"
      ],
      "metadata": {
        "id": "-ILM7W0ZNx-E"
      },
      "execution_count": null,
      "outputs": []
    },
    {
      "cell_type": "code",
      "source": [
        "encoded_data = autoencoder.predict(x_train)\n",
        "print(encoded_data.shape)\n",
        "tsne = TSNE(n_components=2, verbose=1, random_state=123)\n",
        "z = tsne.fit_transform(encoded_data)\n",
        "df = pd.DataFrame()\n",
        "df[\"y\"] = y_train\n",
        "df[\"comp-1\"] = z[:,0]\n",
        "df[\"comp-2\"] = z[:,1]\n",
        "\n",
        "sns.scatterplot(x=\"comp-1\", y=\"comp-2\", hue=df.y.tolist(),\n",
        "                palette=sns.color_palette(\"hls\", 10),\n",
        "                data=df).set(title=\"Autoencoder T-SNE projection\")"
      ],
      "metadata": {
        "id": "Nv1T_YglOj4w"
      },
      "execution_count": null,
      "outputs": []
    },
    {
      "cell_type": "code",
      "source": [],
      "metadata": {
        "id": "zot-1zVUjIIL"
      },
      "execution_count": null,
      "outputs": []
    }
  ]
}