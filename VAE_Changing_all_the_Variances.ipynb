{
  "nbformat": 4,
  "nbformat_minor": 0,
  "metadata": {
    "colab": {
      "provenance": [],
      "authorship_tag": "ABX9TyPBBPBJDWcCrZhEXN1woh/8",
      "include_colab_link": true
    },
    "kernelspec": {
      "name": "python3",
      "display_name": "Python 3"
    },
    "language_info": {
      "name": "python"
    }
  },
  "cells": [
    {
      "cell_type": "markdown",
      "metadata": {
        "id": "view-in-github",
        "colab_type": "text"
      },
      "source": [
        "<a href=\"https://colab.research.google.com/github/midnightripper/accuracy_improvement/blob/main/VAE_Changing_all_the_Variances.ipynb\" target=\"_parent\"><img src=\"https://colab.research.google.com/assets/colab-badge.svg\" alt=\"Open In Colab\"/></a>"
      ]
    },
    {
      "cell_type": "code",
      "execution_count": 1,
      "metadata": {
        "colab": {
          "base_uri": "https://localhost:8080/"
        },
        "id": "5n4W5sADBnfx",
        "outputId": "e2c90bfe-d5d6-43f9-c88a-b5b033183509"
      },
      "outputs": [
        {
          "output_type": "stream",
          "name": "stdout",
          "text": [
            "Mounted at /content/drive\n"
          ]
        }
      ],
      "source": [
        "from google.colab import drive\n",
        "drive.mount('/content/drive')"
      ]
    },
    {
      "cell_type": "markdown",
      "metadata": {
        "id": "lTuKWTvUCDYg"
      },
      "source": [
        "###Prerequisite"
      ]
    },
    {
      "cell_type": "code",
      "execution_count": 2,
      "metadata": {
        "colab": {
          "base_uri": "https://localhost:8080/"
        },
        "id": "pd7zXfrBBvqM",
        "outputId": "d42fb118-3004-441a-b98a-58eaa72eca3f"
      },
      "outputs": [
        {
          "output_type": "stream",
          "name": "stdout",
          "text": [
            "Looking in indexes: https://pypi.org/simple, https://us-python.pkg.dev/colab-wheels/public/simple/\n",
            "Collecting tensorflow-addons\n",
            "  Downloading tensorflow_addons-0.20.0-cp39-cp39-manylinux_2_17_x86_64.manylinux2014_x86_64.whl (591 kB)\n",
            "\u001b[2K     \u001b[90m━━━━━━━━━━━━━━━━━━━━━━━━━━━━━━━━━━━━━━\u001b[0m \u001b[32m591.0/591.0 kB\u001b[0m \u001b[31m14.8 MB/s\u001b[0m eta \u001b[36m0:00:00\u001b[0m\n",
            "\u001b[?25hRequirement already satisfied: packaging in /usr/local/lib/python3.9/dist-packages (from tensorflow-addons) (23.0)\n",
            "Collecting typeguard<3.0.0,>=2.7\n",
            "  Downloading typeguard-2.13.3-py3-none-any.whl (17 kB)\n",
            "Installing collected packages: typeguard, tensorflow-addons\n",
            "Successfully installed tensorflow-addons-0.20.0 typeguard-2.13.3\n"
          ]
        }
      ],
      "source": [
        "pip install tensorflow-addons"
      ]
    },
    {
      "cell_type": "code",
      "execution_count": 3,
      "metadata": {
        "id": "O7F71cx6BwQW",
        "colab": {
          "base_uri": "https://localhost:8080/"
        },
        "outputId": "44707e05-37d5-4686-8328-4615c7c94473"
      },
      "outputs": [
        {
          "output_type": "stream",
          "name": "stderr",
          "text": [
            "/usr/local/lib/python3.9/dist-packages/tensorflow_addons/utils/tfa_eol_msg.py:23: UserWarning: \n",
            "\n",
            "TensorFlow Addons (TFA) has ended development and introduction of new features.\n",
            "TFA has entered a minimal maintenance and release mode until a planned end of life in May 2024.\n",
            "Please modify downstream libraries to take dependencies from other repositories in our TensorFlow community (e.g. Keras, Keras-CV, and Keras-NLP). \n",
            "\n",
            "For more information see: https://github.com/tensorflow/addons/issues/2807 \n",
            "\n",
            "  warnings.warn(\n"
          ]
        }
      ],
      "source": [
        "import numpy as np\n",
        "import tensorflow as tf\n",
        "import tensorflow_addons as tfa\n",
        "import scipy.io as sio\n",
        "import pandas as pd\n",
        "import matplotlib.pyplot as plt\n",
        "\n",
        "from tensorflow import keras\n",
        "from tensorflow.keras import layers\n",
        "from tensorflow.keras.models import Sequential\n",
        "from tensorflow.keras.layers import Conv1D, MaxPooling1D, Flatten, Dense\n",
        "from tensorflow.keras.models import Model\n",
        "from sklearn.preprocessing import StandardScaler\n",
        "from keras.models import Sequential\n",
        "from keras.layers import Activation\n",
        "from keras.layers import Input\n",
        "from keras.layers import Reshape\n",
        "from tensorflow.keras import backend as K"
      ]
    },
    {
      "cell_type": "markdown",
      "metadata": {
        "id": "uzQisdLRCdAm"
      },
      "source": [
        "Load the train and test data splits"
      ]
    },
    {
      "cell_type": "code",
      "execution_count": 4,
      "metadata": {
        "id": "c4yofhKpCPsk"
      },
      "outputs": [],
      "source": [
        "GER_test = (np.array(sio.loadmat('/content/drive/MyDrive/training data/GER_test.mat')['GER_test'])).transpose()\n",
        "GER_train = (np.array(sio.loadmat('/content/drive/MyDrive/training data/GER_train.mat')['GER_train'])).transpose()\n",
        "test_frame = pd.DataFrame(GER_test).sort_values(1)\n",
        "train_frame = pd.DataFrame(GER_train).sort_values(1)"
      ]
    },
    {
      "cell_type": "code",
      "execution_count": 5,
      "metadata": {
        "colab": {
          "base_uri": "https://localhost:8080/"
        },
        "id": "4HDdLVz2ChJF",
        "outputId": "d2e1fc68-8ce0-42d9-ceb1-51a10a5e0080"
      },
      "outputs": [
        {
          "output_type": "stream",
          "name": "stdout",
          "text": [
            "x_train shape: (6981, 21) - y_train shape: (6981, 21)\n",
            "x_test shape: (6248, 21) - y_test shape: (6248, 21)\n"
          ]
        }
      ],
      "source": [
        "print(f\"x_train shape: {GER_train.shape} - y_train shape: {GER_train.shape}\")\n",
        "print(f\"x_test shape: {GER_test.shape} - y_test shape: {GER_test.shape}\")"
      ]
    },
    {
      "cell_type": "code",
      "execution_count": 6,
      "metadata": {
        "id": "QKt4urE1O7ke"
      },
      "outputs": [],
      "source": [
        "def get_data_labels(split):\n",
        "    x = pd.DataFrame(split)\n",
        "    labels = x[0].values.astype(np.uint8)\n",
        "    del x[0],x[1]\n",
        "    data = x.values \n",
        "    return data, labels\n",
        "    \n",
        "x_train, y_train = get_data_labels(train_frame.values.tolist())\n",
        "x_test, y_test = get_data_labels(test_frame.values.tolist())"
      ]
    },
    {
      "cell_type": "code",
      "source": [
        "df = pd.DataFrame(x_train)\n",
        "scaler = StandardScaler()\n",
        "x_train = pd.DataFrame(scaler.fit_transform(df), columns=df.columns)"
      ],
      "metadata": {
        "id": "LiyxoXMIajC_"
      },
      "execution_count": 7,
      "outputs": []
    },
    {
      "cell_type": "code",
      "source": [
        "df2 = pd.DataFrame(x_test)\n",
        "scaler = StandardScaler()\n",
        "x_test = pd.DataFrame(scaler.fit_transform(df2), columns=df.columns)"
      ],
      "metadata": {
        "id": "4PVlJpiAb1Xq"
      },
      "execution_count": 8,
      "outputs": []
    },
    {
      "cell_type": "code",
      "source": [
        "print(x_train.mean())"
      ],
      "metadata": {
        "colab": {
          "base_uri": "https://localhost:8080/"
        },
        "id": "aKBwpU_zGRYP",
        "outputId": "ae9e8a5e-bc2a-4e7c-e8b8-45f35b629cf7"
      },
      "execution_count": 9,
      "outputs": [
        {
          "output_type": "stream",
          "name": "stdout",
          "text": [
            "0     5.699813e-17\n",
            "1    -1.628518e-17\n",
            "2     1.791370e-16\n",
            "3     8.142590e-18\n",
            "4    -4.071295e-18\n",
            "5    -4.274860e-16\n",
            "6    -8.676947e-17\n",
            "7     8.549719e-17\n",
            "8     7.302885e-17\n",
            "9    -4.885554e-17\n",
            "10    9.771108e-17\n",
            "11    3.257036e-17\n",
            "12    1.302814e-16\n",
            "13    8.386867e-16\n",
            "14    1.526736e-18\n",
            "15    2.157786e-16\n",
            "16    2.015291e-16\n",
            "17    9.440315e-17\n",
            "18    8.193481e-17\n",
            "dtype: float64\n"
          ]
        }
      ]
    },
    {
      "cell_type": "code",
      "source": [
        "print(x_train.std())"
      ],
      "metadata": {
        "colab": {
          "base_uri": "https://localhost:8080/"
        },
        "id": "NWxgdQ8JGc5S",
        "outputId": "a51e1bf6-b0e8-40c6-bfc2-1c3314e1c8ed"
      },
      "execution_count": 10,
      "outputs": [
        {
          "output_type": "stream",
          "name": "stdout",
          "text": [
            "0     1.000072\n",
            "1     1.000072\n",
            "2     1.000072\n",
            "3     1.000072\n",
            "4     1.000072\n",
            "5     1.000072\n",
            "6     1.000072\n",
            "7     1.000072\n",
            "8     1.000072\n",
            "9     1.000072\n",
            "10    1.000072\n",
            "11    1.000072\n",
            "12    1.000072\n",
            "13    1.000072\n",
            "14    1.000072\n",
            "15    1.000072\n",
            "16    1.000072\n",
            "17    1.000072\n",
            "18    1.000072\n",
            "dtype: float64\n"
          ]
        }
      ]
    },
    {
      "cell_type": "code",
      "source": [
        "print(f\"Size of the training set: {len(x_train)}\")"
      ],
      "metadata": {
        "colab": {
          "base_uri": "https://localhost:8080/"
        },
        "id": "VNcb5GGX3-RC",
        "outputId": "84a09d5b-9388-4aa0-de09-3ec3d6deeb76"
      },
      "execution_count": 11,
      "outputs": [
        {
          "output_type": "stream",
          "name": "stdout",
          "text": [
            "Size of the training set: 6981\n"
          ]
        }
      ]
    },
    {
      "cell_type": "code",
      "source": [
        "from sklearn.model_selection import train_test_split\n",
        "\n",
        "x_train, x_val, y_train, y_val = train_test_split(x_train, y_train, test_size=0.2, random_state=42)\n",
        "\n",
        "print(f\"Size of the x training set: {len(x_train)}\")\n",
        "print(f\"Size of the x validation set: {len(x_val)}\")\n",
        "print(f\"Size of the y training set: {len(y_train)}\")\n",
        "print(f\"Size of the y validation set: {len(y_val)}\")"
      ],
      "metadata": {
        "colab": {
          "base_uri": "https://localhost:8080/"
        },
        "id": "P8QrrTLl3Vck",
        "outputId": "ef5cae4a-de7a-45f9-aeb1-72500315f836"
      },
      "execution_count": 12,
      "outputs": [
        {
          "output_type": "stream",
          "name": "stdout",
          "text": [
            "Size of the x training set: 5584\n",
            "Size of the x validation set: 1397\n",
            "Size of the y training set: 5584\n",
            "Size of the y validation set: 1397\n"
          ]
        }
      ]
    },
    {
      "cell_type": "code",
      "source": [
        "print(x_train[:5])\n",
        "print(y_train[:5])"
      ],
      "metadata": {
        "colab": {
          "base_uri": "https://localhost:8080/"
        },
        "id": "rIJuIEhcCR9z",
        "outputId": "f636ddf3-27e7-4f98-c823-6c5b77c2c9b5"
      },
      "execution_count": 13,
      "outputs": [
        {
          "output_type": "stream",
          "name": "stdout",
          "text": [
            "            0         1         2         3         4         5         6   \\\n",
            "6565 -1.076680 -1.065748 -1.012843 -0.799906 -0.713923 -0.710367 -1.932554   \n",
            "4003  0.582947  1.135969  1.297658  1.015694  0.868769 -0.130759 -1.806106   \n",
            "1010 -0.545586 -0.653364 -0.430347 -0.782925 -0.775639 -0.323475 -0.652264   \n",
            "4617 -0.566326 -0.578170 -0.686170 -0.379677 -0.210357 -1.287966  0.392749   \n",
            "931   0.245015  0.061639  0.443537 -0.616326 -0.935091  0.915754  0.721268   \n",
            "\n",
            "            7         8         9         10        11        12        13  \\\n",
            "6565  2.396384 -0.985383 -0.853229 -0.838086 -0.790418 -0.770441  1.082992   \n",
            "4003  1.601756 -0.026166  1.974222  2.026149  2.399590  2.084844 -0.682288   \n",
            "1010  0.034567 -1.103360  0.015721  0.285905  0.997402  0.964844 -2.012156   \n",
            "4617 -0.268374 -0.030353 -0.463698 -0.261271  1.170901  1.321986 -2.641625   \n",
            "931  -0.828500 -0.803408 -0.062883 -0.065124 -0.179201 -0.313890  0.995570   \n",
            "\n",
            "            14        15        16        17        18  \n",
            "6565 -0.216355 -0.721598 -0.594885 -0.737281 -0.471763  \n",
            "4003 -1.046685  0.347734  0.734827  0.719801  0.505871  \n",
            "1010 -1.826764  1.715625  0.002333 -0.291287 -0.845277  \n",
            "4617 -1.741099  1.721965  0.407782  0.506096 -1.018501  \n",
            "931   0.347777 -0.748741 -0.701084 -0.737281 -1.479453  \n",
            "[0 1 1 1 0]\n"
          ]
        }
      ]
    },
    {
      "cell_type": "markdown",
      "source": [
        "Early stopping to prevent over-fitting"
      ],
      "metadata": {
        "id": "NDyM8dez-mGw"
      }
    },
    {
      "cell_type": "code",
      "source": [
        "es = tf.keras.callbacks.EarlyStopping(monitor='val_loss', mode='min', verbose=1, patience=5)"
      ],
      "metadata": {
        "id": "g8hamCaPnco_"
      },
      "execution_count": 14,
      "outputs": []
    },
    {
      "cell_type": "markdown",
      "source": [
        "\n",
        "\n",
        "\n",
        "\n",
        "# Function Calls"
      ],
      "metadata": {
        "id": "9yq9R7CC9ZZ8"
      }
    },
    {
      "cell_type": "code",
      "source": [
        "input_shape = (19,)"
      ],
      "metadata": {
        "id": "t-_jwVqoJgTE"
      },
      "execution_count": 15,
      "outputs": []
    },
    {
      "cell_type": "code",
      "source": [
        "def sampling(args):\n",
        "    \"\"\"Reparameterization trick. Instead of sampling from Q(z|X), \n",
        "    sample eps = N(0,I) z = z_mean + sqrt(var)*eps.\n",
        "\n",
        "    Parameters:\n",
        "    -----------\n",
        "    args: list of Tensors\n",
        "        Mean and log of variance of Q(z|X)\n",
        "\n",
        "    Returns\n",
        "    -------\n",
        "    z: Tensor\n",
        "        Sampled latent vector\n",
        "    \"\"\"\n",
        "\n",
        "    z_mean, z_log_var = args\n",
        "    eps = tf.random.normal(tf.shape(z_log_var), dtype=tf.float32, mean=0., stddev=0.004 , name='epsilon')\n",
        "    z = z_mean + tf.exp(z_log_var / 2) * eps\n",
        "    return z"
      ],
      "metadata": {
        "id": "yNoxPkfF8qUr"
      },
      "execution_count": 16,
      "outputs": []
    },
    {
      "cell_type": "code",
      "source": [
        "inputs = keras.layers.Input(shape=input_shape, name='input')\n",
        "x = keras.layers.Dense(64, activation='relu')(inputs)\n",
        "z_mean = keras.layers.Dense(19, name='z_mean')(x)\n",
        "z_log_var = keras.layers.Dense(19, name='z_log_var')(x)"
      ],
      "metadata": {
        "id": "05L3ufM33CIC"
      },
      "execution_count": 17,
      "outputs": []
    },
    {
      "cell_type": "code",
      "source": [
        "z = keras.layers.Lambda(sampling, name='z')([z_mean, z_log_var])\n",
        "encoder = keras.Model(inputs, [z_mean, z_log_var, z], name='encoder')\n",
        "encoder.summary()"
      ],
      "metadata": {
        "id": "Wbei5NfYOybb",
        "colab": {
          "base_uri": "https://localhost:8080/"
        },
        "outputId": "340f4640-6047-4b87-d19d-75747bde48fa"
      },
      "execution_count": 18,
      "outputs": [
        {
          "output_type": "stream",
          "name": "stdout",
          "text": [
            "Model: \"encoder\"\n",
            "__________________________________________________________________________________________________\n",
            " Layer (type)                   Output Shape         Param #     Connected to                     \n",
            "==================================================================================================\n",
            " input (InputLayer)             [(None, 19)]         0           []                               \n",
            "                                                                                                  \n",
            " dense (Dense)                  (None, 64)           1280        ['input[0][0]']                  \n",
            "                                                                                                  \n",
            " z_mean (Dense)                 (None, 19)           1235        ['dense[0][0]']                  \n",
            "                                                                                                  \n",
            " z_log_var (Dense)              (None, 19)           1235        ['dense[0][0]']                  \n",
            "                                                                                                  \n",
            " z (Lambda)                     (None, 19)           0           ['z_mean[0][0]',                 \n",
            "                                                                  'z_log_var[0][0]']              \n",
            "                                                                                                  \n",
            "==================================================================================================\n",
            "Total params: 3,750\n",
            "Trainable params: 3,750\n",
            "Non-trainable params: 0\n",
            "__________________________________________________________________________________________________\n"
          ]
        }
      ]
    },
    {
      "cell_type": "markdown",
      "source": [
        "# Decoder"
      ],
      "metadata": {
        "id": "f8zXzzoi9yVZ"
      }
    },
    {
      "cell_type": "code",
      "source": [
        "#Giving input to decoder and initialising shape\n",
        "latent_inputs = keras.layers.Input(shape=(19), name='z_sampling')\n",
        "middle=keras.layers.Dense(64, activation='relu')(latent_inputs)\n",
        "x = keras.layers.Dense(19, activation='relu')(middle)\n",
        "\n",
        "# instantiate decoder model\n",
        "decoder = keras.Model(latent_inputs, x, name='decoder')"
      ],
      "metadata": {
        "id": "yuxKxPh74BnA"
      },
      "execution_count": 19,
      "outputs": []
    },
    {
      "cell_type": "markdown",
      "source": [
        "# Implementing VAE without Loss"
      ],
      "metadata": {
        "id": "2Yc5C5Ps9_1A"
      }
    },
    {
      "cell_type": "code",
      "source": [
        "outputs = decoder(encoder(inputs)[2])  # Select the Z value from outputs of the encoder\n",
        "vae = keras.Model(inputs, outputs, name='vae')\n",
        "vae.summary()"
      ],
      "metadata": {
        "id": "SRSG3DHgQidg",
        "colab": {
          "base_uri": "https://localhost:8080/"
        },
        "outputId": "d35bbd2c-a299-46e8-d9d1-22e1b0d81a4e"
      },
      "execution_count": 20,
      "outputs": [
        {
          "output_type": "stream",
          "name": "stdout",
          "text": [
            "Model: \"vae\"\n",
            "_________________________________________________________________\n",
            " Layer (type)                Output Shape              Param #   \n",
            "=================================================================\n",
            " input (InputLayer)          [(None, 19)]              0         \n",
            "                                                                 \n",
            " encoder (Functional)        [(None, 19),              3750      \n",
            "                              (None, 19),                        \n",
            "                              (None, 19)]                        \n",
            "                                                                 \n",
            " decoder (Functional)        (None, 19)                2515      \n",
            "                                                                 \n",
            "=================================================================\n",
            "Total params: 6,265\n",
            "Trainable params: 6,265\n",
            "Non-trainable params: 0\n",
            "_________________________________________________________________\n"
          ]
        }
      ]
    },
    {
      "cell_type": "markdown",
      "source": [
        "# Initialising Loss "
      ],
      "metadata": {
        "id": "p00pZecn-H63"
      }
    },
    {
      "cell_type": "code",
      "source": [
        "autoencoder = Model(inputs, outputs)"
      ],
      "metadata": {
        "id": "bY7oxb8C98Zu"
      },
      "execution_count": 21,
      "outputs": []
    },
    {
      "cell_type": "code",
      "source": [
        "reconstruction_loss = K.mean(K.square(outputs - inputs), axis=-1)\n",
        "kl_loss = -0.5 * K.sum(1 + z_log_var - K.square(z_mean) - K.exp(z_log_var), axis=-1)\n",
        "vae_loss = K.mean(reconstruction_loss + kl_loss)\n"
      ],
      "metadata": {
        "id": "rFGVeXkk-r-K"
      },
      "execution_count": 22,
      "outputs": []
    },
    {
      "cell_type": "markdown",
      "source": [
        "# Training VAE"
      ],
      "metadata": {
        "id": "HEPth6TP-X_j"
      }
    },
    {
      "cell_type": "code",
      "source": [
        "autoencoder.add_loss(vae_loss)\n",
        "autoencoder.summary()\n",
        "autoencoder.compile(optimizer='adam')"
      ],
      "metadata": {
        "colab": {
          "base_uri": "https://localhost:8080/"
        },
        "id": "kR8Q2yDgmhUz",
        "outputId": "12efe8b1-f589-4b61-9ae5-093b1d1c8e71"
      },
      "execution_count": 23,
      "outputs": [
        {
          "output_type": "stream",
          "name": "stdout",
          "text": [
            "Model: \"model\"\n",
            "__________________________________________________________________________________________________\n",
            " Layer (type)                   Output Shape         Param #     Connected to                     \n",
            "==================================================================================================\n",
            " input (InputLayer)             [(None, 19)]         0           []                               \n",
            "                                                                                                  \n",
            " encoder (Functional)           [(None, 19),         3750        ['input[0][0]']                  \n",
            "                                 (None, 19),                                                      \n",
            "                                 (None, 19)]                                                      \n",
            "                                                                                                  \n",
            " decoder (Functional)           (None, 19)           2515        ['encoder[0][2]']                \n",
            "                                                                                                  \n",
            " dense (Dense)                  (None, 64)           1280        ['input[0][0]']                  \n",
            "                                                                                                  \n",
            " z_log_var (Dense)              (None, 19)           1235        ['dense[0][0]']                  \n",
            "                                                                                                  \n",
            " z_mean (Dense)                 (None, 19)           1235        ['dense[0][0]']                  \n",
            "                                                                                                  \n",
            " tf.__operators__.add (TFOpLamb  (None, 19)          0           ['z_log_var[0][0]']              \n",
            " da)                                                                                              \n",
            "                                                                                                  \n",
            " tf.math.square_1 (TFOpLambda)  (None, 19)           0           ['z_mean[0][0]']                 \n",
            "                                                                                                  \n",
            " tf.math.subtract_1 (TFOpLambda  (None, 19)          0           ['tf.__operators__.add[0][0]',   \n",
            " )                                                                'tf.math.square_1[0][0]']       \n",
            "                                                                                                  \n",
            " tf.math.exp (TFOpLambda)       (None, 19)           0           ['z_log_var[0][0]']              \n",
            "                                                                                                  \n",
            " tf.math.subtract (TFOpLambda)  (None, 19)           0           ['decoder[0][0]',                \n",
            "                                                                  'input[0][0]']                  \n",
            "                                                                                                  \n",
            " tf.math.subtract_2 (TFOpLambda  (None, 19)          0           ['tf.math.subtract_1[0][0]',     \n",
            " )                                                                'tf.math.exp[0][0]']            \n",
            "                                                                                                  \n",
            " tf.math.square (TFOpLambda)    (None, 19)           0           ['tf.math.subtract[0][0]']       \n",
            "                                                                                                  \n",
            " tf.math.reduce_sum (TFOpLambda  (None,)             0           ['tf.math.subtract_2[0][0]']     \n",
            " )                                                                                                \n",
            "                                                                                                  \n",
            " tf.math.reduce_mean (TFOpLambd  (None,)             0           ['tf.math.square[0][0]']         \n",
            " a)                                                                                               \n",
            "                                                                                                  \n",
            " tf.math.multiply (TFOpLambda)  (None,)              0           ['tf.math.reduce_sum[0][0]']     \n",
            "                                                                                                  \n",
            " tf.__operators__.add_1 (TFOpLa  (None,)             0           ['tf.math.reduce_mean[0][0]',    \n",
            " mbda)                                                            'tf.math.multiply[0][0]']       \n",
            "                                                                                                  \n",
            " tf.math.reduce_mean_1 (TFOpLam  ()                  0           ['tf.__operators__.add_1[0][0]'] \n",
            " bda)                                                                                             \n",
            "                                                                                                  \n",
            " add_loss (AddLoss)             ()                   0           ['tf.math.reduce_mean_1[0][0]']  \n",
            "                                                                                                  \n",
            "==================================================================================================\n",
            "Total params: 6,265\n",
            "Trainable params: 6,265\n",
            "Non-trainable params: 0\n",
            "__________________________________________________________________________________________________\n"
          ]
        }
      ]
    },
    {
      "cell_type": "code",
      "source": [
        "autoencoder.fit(x_train, epochs=50, batch_size=32, validation_data=(x_val, ),callbacks=[es])"
      ],
      "metadata": {
        "colab": {
          "base_uri": "https://localhost:8080/"
        },
        "id": "Rwp_Dc3m9bQx",
        "outputId": "cb6161a3-370a-4b94-c491-9243ab5f2cfd"
      },
      "execution_count": 24,
      "outputs": [
        {
          "output_type": "stream",
          "name": "stdout",
          "text": [
            "Epoch 1/50\n",
            "175/175 [==============================] - 2s 4ms/step - loss: 1.5707 - val_loss: 0.9775\n",
            "Epoch 2/50\n",
            "175/175 [==============================] - 0s 3ms/step - loss: 0.8246 - val_loss: 0.7140\n",
            "Epoch 3/50\n",
            "175/175 [==============================] - 0s 3ms/step - loss: 0.6528 - val_loss: 0.5945\n",
            "Epoch 4/50\n",
            "175/175 [==============================] - 0s 3ms/step - loss: 0.5654 - val_loss: 0.5347\n",
            "Epoch 5/50\n",
            "175/175 [==============================] - 0s 3ms/step - loss: 0.5182 - val_loss: 0.4968\n",
            "Epoch 6/50\n",
            "175/175 [==============================] - 1s 3ms/step - loss: 0.4908 - val_loss: 0.4730\n",
            "Epoch 7/50\n",
            "175/175 [==============================] - 0s 2ms/step - loss: 0.4697 - val_loss: 0.4540\n",
            "Epoch 8/50\n",
            "175/175 [==============================] - 0s 2ms/step - loss: 0.4551 - val_loss: 0.4432\n",
            "Epoch 9/50\n",
            "175/175 [==============================] - 1s 3ms/step - loss: 0.4455 - val_loss: 0.4319\n",
            "Epoch 10/50\n",
            "175/175 [==============================] - 1s 4ms/step - loss: 0.4361 - val_loss: 0.4265\n",
            "Epoch 11/50\n",
            "175/175 [==============================] - 1s 4ms/step - loss: 0.4320 - val_loss: 0.4198\n",
            "Epoch 12/50\n",
            "175/175 [==============================] - 1s 4ms/step - loss: 0.4256 - val_loss: 0.4162\n",
            "Epoch 13/50\n",
            "175/175 [==============================] - 1s 4ms/step - loss: 0.4219 - val_loss: 0.4097\n",
            "Epoch 14/50\n",
            "175/175 [==============================] - 1s 4ms/step - loss: 0.4175 - val_loss: 0.4071\n",
            "Epoch 15/50\n",
            "175/175 [==============================] - 1s 4ms/step - loss: 0.4146 - val_loss: 0.4042\n",
            "Epoch 16/50\n",
            "175/175 [==============================] - 0s 2ms/step - loss: 0.4123 - val_loss: 0.4029\n",
            "Epoch 17/50\n",
            "175/175 [==============================] - 0s 2ms/step - loss: 0.4099 - val_loss: 0.3997\n",
            "Epoch 18/50\n",
            "175/175 [==============================] - 0s 2ms/step - loss: 0.4075 - val_loss: 0.3980\n",
            "Epoch 19/50\n",
            "175/175 [==============================] - 0s 3ms/step - loss: 0.4061 - val_loss: 0.3979\n",
            "Epoch 20/50\n",
            "175/175 [==============================] - 1s 3ms/step - loss: 0.4041 - val_loss: 0.3942\n",
            "Epoch 21/50\n",
            "175/175 [==============================] - 0s 3ms/step - loss: 0.4036 - val_loss: 0.3989\n",
            "Epoch 22/50\n",
            "175/175 [==============================] - 0s 3ms/step - loss: 0.4032 - val_loss: 0.3923\n",
            "Epoch 23/50\n",
            "175/175 [==============================] - 0s 3ms/step - loss: 0.4005 - val_loss: 0.3915\n",
            "Epoch 24/50\n",
            "175/175 [==============================] - 0s 3ms/step - loss: 0.4005 - val_loss: 0.3919\n",
            "Epoch 25/50\n",
            "175/175 [==============================] - 0s 3ms/step - loss: 0.3991 - val_loss: 0.3997\n",
            "Epoch 26/50\n",
            "175/175 [==============================] - 0s 3ms/step - loss: 0.3996 - val_loss: 0.3910\n",
            "Epoch 27/50\n",
            "175/175 [==============================] - 0s 3ms/step - loss: 0.3979 - val_loss: 0.3903\n",
            "Epoch 28/50\n",
            "175/175 [==============================] - 0s 3ms/step - loss: 0.3985 - val_loss: 0.3868\n",
            "Epoch 29/50\n",
            "175/175 [==============================] - 0s 3ms/step - loss: 0.3965 - val_loss: 0.3872\n",
            "Epoch 30/50\n",
            "175/175 [==============================] - 0s 3ms/step - loss: 0.3963 - val_loss: 0.3883\n",
            "Epoch 31/50\n",
            "175/175 [==============================] - 0s 2ms/step - loss: 0.3953 - val_loss: 0.3870\n",
            "Epoch 32/50\n",
            "175/175 [==============================] - 0s 3ms/step - loss: 0.3946 - val_loss: 0.3887\n",
            "Epoch 33/50\n",
            "175/175 [==============================] - 0s 3ms/step - loss: 0.3958 - val_loss: 0.3849\n",
            "Epoch 34/50\n",
            "175/175 [==============================] - 0s 3ms/step - loss: 0.3943 - val_loss: 0.3858\n",
            "Epoch 35/50\n",
            "175/175 [==============================] - 0s 3ms/step - loss: 0.3946 - val_loss: 0.3849\n",
            "Epoch 36/50\n",
            "175/175 [==============================] - 1s 3ms/step - loss: 0.3935 - val_loss: 0.3855\n",
            "Epoch 37/50\n",
            "175/175 [==============================] - 1s 5ms/step - loss: 0.3937 - val_loss: 0.3845\n",
            "Epoch 38/50\n",
            "175/175 [==============================] - 1s 4ms/step - loss: 0.3935 - val_loss: 0.3863\n",
            "Epoch 39/50\n",
            "175/175 [==============================] - 1s 4ms/step - loss: 0.3938 - val_loss: 0.3840\n",
            "Epoch 40/50\n",
            "175/175 [==============================] - 1s 5ms/step - loss: 0.3933 - val_loss: 0.3842\n",
            "Epoch 41/50\n",
            "175/175 [==============================] - 1s 4ms/step - loss: 0.3926 - val_loss: 0.3832\n",
            "Epoch 42/50\n",
            "175/175 [==============================] - 1s 4ms/step - loss: 0.3916 - val_loss: 0.3854\n",
            "Epoch 43/50\n",
            "175/175 [==============================] - 0s 2ms/step - loss: 0.3927 - val_loss: 0.3827\n",
            "Epoch 44/50\n",
            "175/175 [==============================] - 0s 3ms/step - loss: 0.3920 - val_loss: 0.3850\n",
            "Epoch 45/50\n",
            "175/175 [==============================] - 0s 3ms/step - loss: 0.3941 - val_loss: 0.3897\n",
            "Epoch 46/50\n",
            "175/175 [==============================] - 0s 2ms/step - loss: 0.3927 - val_loss: 0.3840\n",
            "Epoch 47/50\n",
            "175/175 [==============================] - 0s 3ms/step - loss: 0.3917 - val_loss: 0.3837\n",
            "Epoch 48/50\n",
            "175/175 [==============================] - 0s 2ms/step - loss: 0.3919 - val_loss: 0.3832\n",
            "Epoch 48: early stopping\n"
          ]
        },
        {
          "output_type": "execute_result",
          "data": {
            "text/plain": [
              "<keras.callbacks.History at 0x7f25285add60>"
            ]
          },
          "metadata": {},
          "execution_count": 24
        }
      ]
    }
  ]
}