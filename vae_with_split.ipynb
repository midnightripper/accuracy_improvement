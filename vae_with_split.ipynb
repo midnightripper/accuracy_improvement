{
  "nbformat": 4,
  "nbformat_minor": 0,
  "metadata": {
    "colab": {
      "provenance": [],
      "toc_visible": true
    },
    "kernelspec": {
      "name": "python3",
      "display_name": "Python 3"
    },
    "language_info": {
      "name": "python"
    }
  },
  "cells": [
    {
      "cell_type": "code",
      "execution_count": null,
      "metadata": {
        "colab": {
          "base_uri": "https://localhost:8080/"
        },
        "id": "5n4W5sADBnfx",
        "outputId": "6441d4f1-3eef-4d46-ac83-070b0502e593"
      },
      "outputs": [
        {
          "output_type": "stream",
          "name": "stdout",
          "text": [
            "Mounted at /content/drive\n"
          ]
        }
      ],
      "source": [
        "from google.colab import drive\n",
        "drive.mount('/content/drive')"
      ]
    },
    {
      "cell_type": "markdown",
      "metadata": {
        "id": "lTuKWTvUCDYg"
      },
      "source": [
        "###Prerequisite"
      ]
    },
    {
      "cell_type": "code",
      "execution_count": null,
      "metadata": {
        "colab": {
          "base_uri": "https://localhost:8080/"
        },
        "id": "pd7zXfrBBvqM",
        "outputId": "8481a1ff-9041-4ff0-9d94-1852b7273364"
      },
      "outputs": [
        {
          "output_type": "stream",
          "name": "stdout",
          "text": [
            "Looking in indexes: https://pypi.org/simple, https://us-python.pkg.dev/colab-wheels/public/simple/\n",
            "Collecting tensorflow-addons\n",
            "  Downloading tensorflow_addons-0.20.0-cp39-cp39-manylinux_2_17_x86_64.manylinux2014_x86_64.whl (591 kB)\n",
            "\u001b[2K     \u001b[90m━━━━━━━━━━━━━━━━━━━━━━━━━━━━━━━━━━━━━━\u001b[0m \u001b[32m591.0/591.0 kB\u001b[0m \u001b[31m11.7 MB/s\u001b[0m eta \u001b[36m0:00:00\u001b[0m\n",
            "\u001b[?25hCollecting typeguard<3.0.0,>=2.7\n",
            "  Downloading typeguard-2.13.3-py3-none-any.whl (17 kB)\n",
            "Requirement already satisfied: packaging in /usr/local/lib/python3.9/dist-packages (from tensorflow-addons) (23.0)\n",
            "Installing collected packages: typeguard, tensorflow-addons\n",
            "Successfully installed tensorflow-addons-0.20.0 typeguard-2.13.3\n"
          ]
        }
      ],
      "source": [
        "pip install tensorflow-addons"
      ]
    },
    {
      "cell_type": "code",
      "execution_count": null,
      "metadata": {
        "id": "O7F71cx6BwQW",
        "colab": {
          "base_uri": "https://localhost:8080/"
        },
        "outputId": "fb1f7a4a-76d9-404b-f0a6-31101071db56"
      },
      "outputs": [
        {
          "output_type": "stream",
          "name": "stderr",
          "text": [
            "/usr/local/lib/python3.9/dist-packages/tensorflow_addons/utils/tfa_eol_msg.py:23: UserWarning: \n",
            "\n",
            "TensorFlow Addons (TFA) has ended development and introduction of new features.\n",
            "TFA has entered a minimal maintenance and release mode until a planned end of life in May 2024.\n",
            "Please modify downstream libraries to take dependencies from other repositories in our TensorFlow community (e.g. Keras, Keras-CV, and Keras-NLP). \n",
            "\n",
            "For more information see: https://github.com/tensorflow/addons/issues/2807 \n",
            "\n",
            "  warnings.warn(\n"
          ]
        }
      ],
      "source": [
        "import numpy as np\n",
        "import tensorflow as tf\n",
        "import tensorflow_addons as tfa\n",
        "import scipy.io as sio\n",
        "import pandas as pd\n",
        "import matplotlib.pyplot as plt\n",
        "\n",
        "from tensorflow import keras\n",
        "from tensorflow.keras import layers\n",
        "from tensorflow.keras.models import Sequential\n",
        "from tensorflow.keras.layers import Conv1D, MaxPooling1D, Flatten, Dense\n",
        "from tensorflow.keras.models import Model\n",
        "from sklearn.preprocessing import StandardScaler\n",
        "from keras.models import Sequential\n",
        "from keras.layers import Activation\n",
        "from keras.layers import Input\n",
        "from keras.layers import Reshape\n",
        "from tensorflow.keras import backend as K"
      ]
    },
    {
      "cell_type": "markdown",
      "metadata": {
        "id": "uzQisdLRCdAm"
      },
      "source": [
        "Load the train and test data splits"
      ]
    },
    {
      "cell_type": "code",
      "execution_count": null,
      "metadata": {
        "id": "c4yofhKpCPsk"
      },
      "outputs": [],
      "source": [
        "GER_test = (np.array(sio.loadmat('/content/drive/MyDrive/training data/GER_test.mat')['GER_test'])).transpose()\n",
        "GER_train = (np.array(sio.loadmat('/content/drive/MyDrive/training data/GER_train.mat')['GER_train'])).transpose()\n",
        "test_frame = pd.DataFrame(GER_test).sort_values(1)\n",
        "train_frame = pd.DataFrame(GER_train).sort_values(1)"
      ]
    },
    {
      "cell_type": "code",
      "execution_count": null,
      "metadata": {
        "colab": {
          "base_uri": "https://localhost:8080/"
        },
        "id": "4HDdLVz2ChJF",
        "outputId": "6500874a-db0c-4998-84e6-bfedaaf54a6c"
      },
      "outputs": [
        {
          "output_type": "stream",
          "name": "stdout",
          "text": [
            "x_train shape: (6981, 21) - y_train shape: (6981, 21)\n",
            "x_test shape: (6248, 21) - y_test shape: (6248, 21)\n"
          ]
        }
      ],
      "source": [
        "print(f\"x_train shape: {GER_train.shape} - y_train shape: {GER_train.shape}\")\n",
        "print(f\"x_test shape: {GER_test.shape} - y_test shape: {GER_test.shape}\")"
      ]
    },
    {
      "cell_type": "code",
      "execution_count": null,
      "metadata": {
        "id": "QKt4urE1O7ke"
      },
      "outputs": [],
      "source": [
        "def get_data_labels(split):\n",
        "    x = pd.DataFrame(split)\n",
        "    labels = x[0].values.astype(np.uint8)\n",
        "    del x[0],x[1]\n",
        "    data = x.values \n",
        "    return data, labels\n",
        "    \n",
        "x_train, y_train = get_data_labels(train_frame.values.tolist())\n",
        "x_test, y_test = get_data_labels(test_frame.values.tolist())"
      ]
    },
    {
      "cell_type": "code",
      "source": [
        "df = pd.DataFrame(x_train)\n",
        "scaler = StandardScaler()\n",
        "x_train = pd.DataFrame(scaler.fit_transform(df), columns=df.columns)"
      ],
      "metadata": {
        "id": "LiyxoXMIajC_"
      },
      "execution_count": null,
      "outputs": []
    },
    {
      "cell_type": "code",
      "source": [
        "df2 = pd.DataFrame(x_test)\n",
        "scaler = StandardScaler()\n",
        "x_test = pd.DataFrame(scaler.fit_transform(df2), columns=df.columns)"
      ],
      "metadata": {
        "id": "4PVlJpiAb1Xq"
      },
      "execution_count": null,
      "outputs": []
    },
    {
      "cell_type": "code",
      "source": [
        "print(f\"Size of the training set: {len(x_train)}\")"
      ],
      "metadata": {
        "colab": {
          "base_uri": "https://localhost:8080/"
        },
        "id": "VNcb5GGX3-RC",
        "outputId": "a2aba9a4-9b0b-439d-d6b6-36f873774ced"
      },
      "execution_count": null,
      "outputs": [
        {
          "output_type": "stream",
          "name": "stdout",
          "text": [
            "Size of the training set: 6981\n"
          ]
        }
      ]
    },
    {
      "cell_type": "code",
      "source": [
        "from sklearn.model_selection import train_test_split\n",
        "\n",
        "x_train, x_val, y_train, y_val = train_test_split(x_train, y_train, test_size=0.2, random_state=42)\n",
        "\n",
        "print(f\"Size of the x training set: {len(x_train)}\")\n",
        "print(f\"Size of the x validation set: {len(x_val)}\")\n",
        "print(f\"Size of the y training set: {len(y_train)}\")\n",
        "print(f\"Size of the y validation set: {len(y_val)}\")"
      ],
      "metadata": {
        "colab": {
          "base_uri": "https://localhost:8080/"
        },
        "id": "P8QrrTLl3Vck",
        "outputId": "36350fd6-4d8f-4d76-d7a3-185083169d75"
      },
      "execution_count": null,
      "outputs": [
        {
          "output_type": "stream",
          "name": "stdout",
          "text": [
            "Size of the x training set: 5584\n",
            "Size of the x validation set: 1397\n",
            "Size of the y training set: 5584\n",
            "Size of the y validation set: 1397\n"
          ]
        }
      ]
    },
    {
      "cell_type": "code",
      "source": [
        "print(x_train[:5])\n",
        "print(y_train[:5])"
      ],
      "metadata": {
        "colab": {
          "base_uri": "https://localhost:8080/"
        },
        "id": "rIJuIEhcCR9z",
        "outputId": "8bcdd30b-407b-42e4-91a4-408be0ed63dc"
      },
      "execution_count": null,
      "outputs": [
        {
          "output_type": "stream",
          "name": "stdout",
          "text": [
            "            0         1         2         3         4         5         6   \\\n",
            "6565 -1.076680 -1.065748 -1.012843 -0.799906 -0.713923 -0.710367 -1.932554   \n",
            "4003  0.582947  1.135969  1.297658  1.015694  0.868769 -0.130759 -1.806106   \n",
            "1010 -0.545586 -0.653364 -0.430347 -0.782925 -0.775639 -0.323475 -0.652264   \n",
            "4617 -0.566326 -0.578170 -0.686170 -0.379677 -0.210357 -1.287966  0.392749   \n",
            "931   0.245015  0.061639  0.443537 -0.616326 -0.935091  0.915754  0.721268   \n",
            "\n",
            "            7         8         9         10        11        12        13  \\\n",
            "6565  2.396384 -0.985383 -0.853229 -0.838086 -0.790418 -0.770441  1.082992   \n",
            "4003  1.601756 -0.026166  1.974222  2.026149  2.399590  2.084844 -0.682288   \n",
            "1010  0.034567 -1.103360  0.015721  0.285905  0.997402  0.964844 -2.012156   \n",
            "4617 -0.268374 -0.030353 -0.463698 -0.261271  1.170901  1.321986 -2.641625   \n",
            "931  -0.828500 -0.803408 -0.062883 -0.065124 -0.179201 -0.313890  0.995570   \n",
            "\n",
            "            14        15        16        17        18  \n",
            "6565 -0.216355 -0.721598 -0.594885 -0.737281 -0.471763  \n",
            "4003 -1.046685  0.347734  0.734827  0.719801  0.505871  \n",
            "1010 -1.826764  1.715625  0.002333 -0.291287 -0.845277  \n",
            "4617 -1.741099  1.721965  0.407782  0.506096 -1.018501  \n",
            "931   0.347777 -0.748741 -0.701084 -0.737281 -1.479453  \n",
            "[0 1 1 1 0]\n"
          ]
        }
      ]
    },
    {
      "cell_type": "markdown",
      "source": [
        "Early stopping to prevent over-fitting"
      ],
      "metadata": {
        "id": "NDyM8dez-mGw"
      }
    },
    {
      "cell_type": "code",
      "source": [
        "es = tf.keras.callbacks.EarlyStopping(monitor='val_loss', mode='min', verbose=1, patience=5)"
      ],
      "metadata": {
        "id": "g8hamCaPnco_"
      },
      "execution_count": null,
      "outputs": []
    },
    {
      "cell_type": "markdown",
      "source": [
        "\n",
        "\n",
        "\n",
        "\n",
        "# Function Calls"
      ],
      "metadata": {
        "id": "9yq9R7CC9ZZ8"
      }
    },
    {
      "cell_type": "code",
      "source": [
        "input_shape = (19,)"
      ],
      "metadata": {
        "id": "t-_jwVqoJgTE"
      },
      "execution_count": null,
      "outputs": []
    },
    {
      "cell_type": "code",
      "source": [
        "# Define the sampling layer\n",
        "def sampling(args):\n",
        "    z_mean, z_log_var = args\n",
        "    epsilon = tf.keras.backend.random_normal(shape=(tf.keras.backend.shape(z_mean)[0], 19), mean=0., stddev=0.004)\n",
        "    return z_mean + tf.keras.backend.exp(0.5 * z_log_var) * epsilon\n",
        "\n",
        "# def sampling(args):\n",
        "#     \"\"\"Reparameterization trick. Instead of sampling from Q(z|X), \n",
        "#     sample eps = N(0,I) z = z_mean + sqrt(var)*eps.\n",
        "\n",
        "#     Parameters:\n",
        "#     -----------\n",
        "#     args: list of Tensors\n",
        "#         Mean and log of variance of Q(z|X)\n",
        "\n",
        "#     Returns\n",
        "#     -------\n",
        "#     z: Tensor\n",
        "#         Sampled latent vector\n",
        "#     \"\"\"\n",
        "\n",
        "#     z_mean, z_log_var = args\n",
        "#     eps = tf.random.normal(tf.shape(z_log_var), dtype=tf.float32, mean=0., stddev=1.0, name='epsilon')\n",
        "#     z = z_mean + tf.exp(z_log_var / 2) * eps\n",
        "#     return z"
      ],
      "metadata": {
        "id": "jakg8MGkJmpg"
      },
      "execution_count": null,
      "outputs": []
    },
    {
      "cell_type": "markdown",
      "source": [
        "# Encoder"
      ],
      "metadata": {
        "id": "Vm4A3lZA9mFR"
      }
    },
    {
      "cell_type": "code",
      "source": [
        "inputs = keras.layers.Input(shape=input_shape, name='input')\n",
        "x = keras.layers.Dense(64, activation='relu')(inputs)\n",
        "z_mean = keras.layers.Dense(19, name='z_mean')(x)\n",
        "z_log_var = keras.layers.Dense(19, name='z_log_var')(x)"
      ],
      "metadata": {
        "id": "05L3ufM33CIC"
      },
      "execution_count": null,
      "outputs": []
    },
    {
      "cell_type": "code",
      "source": [
        "z = keras.layers.Lambda(sampling, name='z')([z_mean, z_log_var])\n",
        "encoder = keras.Model(inputs, [z_mean, z_log_var, z], name='encoder')\n",
        "encoder.summary()"
      ],
      "metadata": {
        "id": "Wbei5NfYOybb",
        "colab": {
          "base_uri": "https://localhost:8080/"
        },
        "outputId": "9a9de353-e0ff-4357-f83a-e5439a7529a2"
      },
      "execution_count": null,
      "outputs": [
        {
          "output_type": "stream",
          "name": "stdout",
          "text": [
            "Model: \"encoder\"\n",
            "__________________________________________________________________________________________________\n",
            " Layer (type)                   Output Shape         Param #     Connected to                     \n",
            "==================================================================================================\n",
            " input (InputLayer)             [(None, 19)]         0           []                               \n",
            "                                                                                                  \n",
            " dense_57 (Dense)               (None, 64)           1280        ['input[0][0]']                  \n",
            "                                                                                                  \n",
            " z_mean (Dense)                 (None, 19)           1235        ['dense_57[0][0]']               \n",
            "                                                                                                  \n",
            " z_log_var (Dense)              (None, 19)           1235        ['dense_57[0][0]']               \n",
            "                                                                                                  \n",
            " z (Lambda)                     (None, 19)           0           ['z_mean[0][0]',                 \n",
            "                                                                  'z_log_var[0][0]']              \n",
            "                                                                                                  \n",
            "==================================================================================================\n",
            "Total params: 3,750\n",
            "Trainable params: 3,750\n",
            "Non-trainable params: 0\n",
            "__________________________________________________________________________________________________\n"
          ]
        }
      ]
    },
    {
      "cell_type": "markdown",
      "source": [
        "# Decoder"
      ],
      "metadata": {
        "id": "f8zXzzoi9yVZ"
      }
    },
    {
      "cell_type": "code",
      "source": [
        "#Giving input to decoder and initialising shape\n",
        "latent_inputs = keras.layers.Input(shape=(19), name='z_sampling')\n",
        "middle=keras.layers.Dense(64, activation='relu')(latent_inputs)\n",
        "x = keras.layers.Dense(19, activation='relu')(middle)\n",
        "\n",
        "# instantiate decoder model\n",
        "decoder = keras.Model(latent_inputs, x, name='decoder')"
      ],
      "metadata": {
        "id": "yuxKxPh74BnA"
      },
      "execution_count": null,
      "outputs": []
    },
    {
      "cell_type": "markdown",
      "source": [
        "# Implementing VAE without Loss"
      ],
      "metadata": {
        "id": "2Yc5C5Ps9_1A"
      }
    },
    {
      "cell_type": "code",
      "source": [
        "outputs = decoder(encoder(inputs)[2])  # Select the Z value from outputs of the encoder\n",
        "vae = keras.Model(inputs, outputs, name='vae')\n",
        "vae.summary()"
      ],
      "metadata": {
        "id": "SRSG3DHgQidg",
        "colab": {
          "base_uri": "https://localhost:8080/"
        },
        "outputId": "bd1d4a0f-cd3e-45dd-e0f7-606080883959"
      },
      "execution_count": null,
      "outputs": [
        {
          "output_type": "stream",
          "name": "stdout",
          "text": [
            "Model: \"vae\"\n",
            "_________________________________________________________________\n",
            " Layer (type)                Output Shape              Param #   \n",
            "=================================================================\n",
            " input (InputLayer)          [(None, 19)]              0         \n",
            "                                                                 \n",
            " encoder (Functional)        [(None, 19),              3750      \n",
            "                              (None, 19),                        \n",
            "                              (None, 19)]                        \n",
            "                                                                 \n",
            " decoder (Functional)        (None, 19)                2515      \n",
            "                                                                 \n",
            "=================================================================\n",
            "Total params: 6,265\n",
            "Trainable params: 6,265\n",
            "Non-trainable params: 0\n",
            "_________________________________________________________________\n"
          ]
        }
      ]
    },
    {
      "cell_type": "markdown",
      "source": [
        "# Initialising Loss "
      ],
      "metadata": {
        "id": "p00pZecn-H63"
      }
    },
    {
      "cell_type": "code",
      "source": [
        "autoencoder = Model(inputs, outputs)"
      ],
      "metadata": {
        "id": "bY7oxb8C98Zu"
      },
      "execution_count": null,
      "outputs": []
    },
    {
      "cell_type": "code",
      "source": [
        "reconstruction_loss = K.mean(K.square(outputs - inputs), axis=-1)\n",
        "kl_loss = -0.5 * K.sum(1 + z_log_var - K.square(z_mean) - K.exp(z_log_var), axis=-1)\n",
        "vae_loss = K.mean(reconstruction_loss + kl_loss)\n"
      ],
      "metadata": {
        "id": "rFGVeXkk-r-K"
      },
      "execution_count": null,
      "outputs": []
    },
    {
      "cell_type": "markdown",
      "source": [
        "# Training VAE"
      ],
      "metadata": {
        "id": "HEPth6TP-X_j"
      }
    },
    {
      "cell_type": "code",
      "source": [
        "autoencoder.add_loss(vae_loss)\n",
        "autoencoder.summary()\n",
        "autoencoder.compile(optimizer='adam')"
      ],
      "metadata": {
        "colab": {
          "base_uri": "https://localhost:8080/"
        },
        "id": "kR8Q2yDgmhUz",
        "outputId": "37615cda-ffec-4032-8f0a-b0d734b939ca"
      },
      "execution_count": null,
      "outputs": [
        {
          "output_type": "stream",
          "name": "stdout",
          "text": [
            "Model: \"model_13\"\n",
            "__________________________________________________________________________________________________\n",
            " Layer (type)                   Output Shape         Param #     Connected to                     \n",
            "==================================================================================================\n",
            " input (InputLayer)             [(None, 19)]         0           []                               \n",
            "                                                                                                  \n",
            " encoder (Functional)           [(None, 19),         3750        ['input[0][0]']                  \n",
            "                                 (None, 19),                                                      \n",
            "                                 (None, 19)]                                                      \n",
            "                                                                                                  \n",
            " decoder (Functional)           (None, 19)           2515        ['encoder[0][2]']                \n",
            "                                                                                                  \n",
            " dense_57 (Dense)               (None, 64)           1280        ['input[0][0]']                  \n",
            "                                                                                                  \n",
            " z_log_var (Dense)              (None, 19)           1235        ['dense_57[0][0]']               \n",
            "                                                                                                  \n",
            " z_mean (Dense)                 (None, 19)           1235        ['dense_57[0][0]']               \n",
            "                                                                                                  \n",
            " tf.__operators__.add_6 (TFOpLa  (None, 19)          0           ['z_log_var[0][0]']              \n",
            " mbda)                                                                                            \n",
            "                                                                                                  \n",
            " tf.math.square_7 (TFOpLambda)  (None, 19)           0           ['z_mean[0][0]']                 \n",
            "                                                                                                  \n",
            " tf.math.subtract_10 (TFOpLambd  (None, 19)          0           ['tf.__operators__.add_6[0][0]', \n",
            " a)                                                               'tf.math.square_7[0][0]']       \n",
            "                                                                                                  \n",
            " tf.math.exp_3 (TFOpLambda)     (None, 19)           0           ['z_log_var[0][0]']              \n",
            "                                                                                                  \n",
            " tf.math.subtract_9 (TFOpLambda  (None, 19)          0           ['decoder[0][0]',                \n",
            " )                                                                'input[0][0]']                  \n",
            "                                                                                                  \n",
            " tf.math.subtract_11 (TFOpLambd  (None, 19)          0           ['tf.math.subtract_10[0][0]',    \n",
            " a)                                                               'tf.math.exp_3[0][0]']          \n",
            "                                                                                                  \n",
            " tf.math.square_6 (TFOpLambda)  (None, 19)           0           ['tf.math.subtract_9[0][0]']     \n",
            "                                                                                                  \n",
            " tf.math.reduce_sum_3 (TFOpLamb  (None,)             0           ['tf.math.subtract_11[0][0]']    \n",
            " da)                                                                                              \n",
            "                                                                                                  \n",
            " tf.math.reduce_mean_6 (TFOpLam  (None,)             0           ['tf.math.square_6[0][0]']       \n",
            " bda)                                                                                             \n",
            "                                                                                                  \n",
            " tf.math.multiply_3 (TFOpLambda  (None,)             0           ['tf.math.reduce_sum_3[0][0]']   \n",
            " )                                                                                                \n",
            "                                                                                                  \n",
            " tf.__operators__.add_7 (TFOpLa  (None,)             0           ['tf.math.reduce_mean_6[0][0]',  \n",
            " mbda)                                                            'tf.math.multiply_3[0][0]']     \n",
            "                                                                                                  \n",
            " tf.math.reduce_mean_7 (TFOpLam  ()                  0           ['tf.__operators__.add_7[0][0]'] \n",
            " bda)                                                                                             \n",
            "                                                                                                  \n",
            " add_loss_4 (AddLoss)           ()                   0           ['tf.math.reduce_mean_7[0][0]']  \n",
            "                                                                                                  \n",
            "==================================================================================================\n",
            "Total params: 6,265\n",
            "Trainable params: 6,265\n",
            "Non-trainable params: 0\n",
            "__________________________________________________________________________________________________\n"
          ]
        }
      ]
    },
    {
      "cell_type": "code",
      "source": [
        "autoencoder.fit(x_train, epochs=50, batch_size=32, validation_data=(x_val, ),callbacks=[es])"
      ],
      "metadata": {
        "colab": {
          "base_uri": "https://localhost:8080/"
        },
        "id": "Lbw85BPmRkp-",
        "outputId": "4cad4fa2-c3f7-4828-d140-b0df3bb89c8a"
      },
      "execution_count": null,
      "outputs": [
        {
          "output_type": "stream",
          "name": "stdout",
          "text": [
            "Epoch 1/50\n",
            "175/175 [==============================] - 2s 3ms/step - loss: 1.8737 - val_loss: 1.1360\n",
            "Epoch 2/50\n",
            "175/175 [==============================] - 0s 3ms/step - loss: 0.9722 - val_loss: 0.8473\n",
            "Epoch 3/50\n",
            "175/175 [==============================] - 0s 2ms/step - loss: 0.7561 - val_loss: 0.6680\n",
            "Epoch 4/50\n",
            "175/175 [==============================] - 0s 2ms/step - loss: 0.6321 - val_loss: 0.5943\n",
            "Epoch 5/50\n",
            "175/175 [==============================] - 0s 2ms/step - loss: 0.5746 - val_loss: 0.5495\n",
            "Epoch 6/50\n",
            "175/175 [==============================] - 0s 2ms/step - loss: 0.5404 - val_loss: 0.5223\n",
            "Epoch 7/50\n",
            "175/175 [==============================] - 1s 4ms/step - loss: 0.5185 - val_loss: 0.5070\n",
            "Epoch 8/50\n",
            "175/175 [==============================] - 1s 5ms/step - loss: 0.5028 - val_loss: 0.4904\n",
            "Epoch 9/50\n",
            "175/175 [==============================] - 1s 5ms/step - loss: 0.4892 - val_loss: 0.4824\n",
            "Epoch 10/50\n",
            "175/175 [==============================] - 1s 4ms/step - loss: 0.4816 - val_loss: 0.4732\n",
            "Epoch 11/50\n",
            "175/175 [==============================] - 1s 4ms/step - loss: 0.4741 - val_loss: 0.4681\n",
            "Epoch 12/50\n",
            "175/175 [==============================] - 1s 4ms/step - loss: 0.4676 - val_loss: 0.4633\n",
            "Epoch 13/50\n",
            "175/175 [==============================] - 1s 4ms/step - loss: 0.4649 - val_loss: 0.4570\n",
            "Epoch 14/50\n",
            "175/175 [==============================] - 1s 4ms/step - loss: 0.4587 - val_loss: 0.4533\n",
            "Epoch 15/50\n",
            "175/175 [==============================] - 1s 4ms/step - loss: 0.4556 - val_loss: 0.4487\n",
            "Epoch 16/50\n",
            "175/175 [==============================] - 1s 3ms/step - loss: 0.4533 - val_loss: 0.4465\n",
            "Epoch 17/50\n",
            "175/175 [==============================] - 0s 2ms/step - loss: 0.4493 - val_loss: 0.4434\n",
            "Epoch 18/50\n",
            "175/175 [==============================] - 0s 2ms/step - loss: 0.4472 - val_loss: 0.4418\n",
            "Epoch 19/50\n",
            "175/175 [==============================] - 0s 2ms/step - loss: 0.4464 - val_loss: 0.4403\n",
            "Epoch 20/50\n",
            "175/175 [==============================] - 0s 2ms/step - loss: 0.4437 - val_loss: 0.4414\n",
            "Epoch 21/50\n",
            "175/175 [==============================] - 0s 2ms/step - loss: 0.4449 - val_loss: 0.4437\n",
            "Epoch 22/50\n",
            "175/175 [==============================] - 0s 3ms/step - loss: 0.4435 - val_loss: 0.4353\n",
            "Epoch 23/50\n",
            "175/175 [==============================] - 0s 2ms/step - loss: 0.4402 - val_loss: 0.4356\n",
            "Epoch 24/50\n",
            "175/175 [==============================] - 0s 2ms/step - loss: 0.4394 - val_loss: 0.4333\n",
            "Epoch 25/50\n",
            "175/175 [==============================] - 0s 2ms/step - loss: 0.4376 - val_loss: 0.4332\n",
            "Epoch 26/50\n",
            "175/175 [==============================] - 0s 2ms/step - loss: 0.4366 - val_loss: 0.4325\n",
            "Epoch 27/50\n",
            "175/175 [==============================] - 0s 2ms/step - loss: 0.4367 - val_loss: 0.4322\n",
            "Epoch 28/50\n",
            "175/175 [==============================] - 0s 2ms/step - loss: 0.4355 - val_loss: 0.4288\n",
            "Epoch 29/50\n",
            "175/175 [==============================] - 0s 3ms/step - loss: 0.4344 - val_loss: 0.4286\n",
            "Epoch 30/50\n",
            "175/175 [==============================] - 0s 2ms/step - loss: 0.4339 - val_loss: 0.4272\n",
            "Epoch 31/50\n",
            "175/175 [==============================] - 0s 2ms/step - loss: 0.4336 - val_loss: 0.4277\n",
            "Epoch 32/50\n",
            "175/175 [==============================] - 0s 2ms/step - loss: 0.4330 - val_loss: 0.4290\n",
            "Epoch 33/50\n",
            "175/175 [==============================] - 0s 3ms/step - loss: 0.4329 - val_loss: 0.4255\n",
            "Epoch 34/50\n",
            "175/175 [==============================] - 0s 2ms/step - loss: 0.4316 - val_loss: 0.4263\n",
            "Epoch 35/50\n",
            "175/175 [==============================] - 0s 3ms/step - loss: 0.4312 - val_loss: 0.4271\n",
            "Epoch 36/50\n",
            "175/175 [==============================] - 0s 2ms/step - loss: 0.4317 - val_loss: 0.4253\n",
            "Epoch 37/50\n",
            "175/175 [==============================] - 0s 2ms/step - loss: 0.4313 - val_loss: 0.4248\n",
            "Epoch 38/50\n",
            "175/175 [==============================] - 0s 3ms/step - loss: 0.4308 - val_loss: 0.4251\n",
            "Epoch 39/50\n",
            "175/175 [==============================] - 1s 3ms/step - loss: 0.4306 - val_loss: 0.4256\n",
            "Epoch 40/50\n",
            "175/175 [==============================] - 1s 4ms/step - loss: 0.4300 - val_loss: 0.4259\n",
            "Epoch 41/50\n",
            "175/175 [==============================] - 1s 4ms/step - loss: 0.4296 - val_loss: 0.4245\n",
            "Epoch 42/50\n",
            "175/175 [==============================] - 1s 4ms/step - loss: 0.4288 - val_loss: 0.4240\n",
            "Epoch 43/50\n",
            "175/175 [==============================] - 1s 4ms/step - loss: 0.4288 - val_loss: 0.4248\n",
            "Epoch 44/50\n",
            "175/175 [==============================] - 1s 4ms/step - loss: 0.4287 - val_loss: 0.4241\n",
            "Epoch 45/50\n",
            "175/175 [==============================] - 1s 4ms/step - loss: 0.4282 - val_loss: 0.4238\n",
            "Epoch 46/50\n",
            "175/175 [==============================] - 0s 2ms/step - loss: 0.4289 - val_loss: 0.4232\n",
            "Epoch 47/50\n",
            "175/175 [==============================] - 0s 2ms/step - loss: 0.4286 - val_loss: 0.4221\n",
            "Epoch 48/50\n",
            "175/175 [==============================] - 0s 3ms/step - loss: 0.4284 - val_loss: 0.4230\n",
            "Epoch 49/50\n",
            "175/175 [==============================] - 0s 2ms/step - loss: 0.4281 - val_loss: 0.4218\n",
            "Epoch 50/50\n",
            "175/175 [==============================] - 0s 2ms/step - loss: 0.4283 - val_loss: 0.4237\n"
          ]
        },
        {
          "output_type": "execute_result",
          "data": {
            "text/plain": [
              "<keras.callbacks.History at 0x7f2282630d30>"
            ]
          },
          "metadata": {},
          "execution_count": 108
        }
      ]
    },
    {
      "cell_type": "markdown",
      "source": [
        "# Extracting the Encoder part of VAE and freezing them"
      ],
      "metadata": {
        "id": "Bo83f55Z-e87"
      }
    },
    {
      "cell_type": "code",
      "source": [
        "encoder = Model(inputs, z)\n",
        "encoder.trainable = False\n",
        "encoder.summary()"
      ],
      "metadata": {
        "colab": {
          "base_uri": "https://localhost:8080/"
        },
        "id": "0J0cBvnWSKNV",
        "outputId": "28200854-7cf4-4876-eefe-51706479a136"
      },
      "execution_count": null,
      "outputs": [
        {
          "output_type": "stream",
          "name": "stdout",
          "text": [
            "Model: \"model_14\"\n",
            "__________________________________________________________________________________________________\n",
            " Layer (type)                   Output Shape         Param #     Connected to                     \n",
            "==================================================================================================\n",
            " input (InputLayer)             [(None, 19)]         0           []                               \n",
            "                                                                                                  \n",
            " dense_57 (Dense)               (None, 64)           1280        ['input[0][0]']                  \n",
            "                                                                                                  \n",
            " z_mean (Dense)                 (None, 19)           1235        ['dense_57[0][0]']               \n",
            "                                                                                                  \n",
            " z_log_var (Dense)              (None, 19)           1235        ['dense_57[0][0]']               \n",
            "                                                                                                  \n",
            " z (Lambda)                     (None, 19)           0           ['z_mean[0][0]',                 \n",
            "                                                                  'z_log_var[0][0]']              \n",
            "                                                                                                  \n",
            "==================================================================================================\n",
            "Total params: 3,750\n",
            "Trainable params: 0\n",
            "Non-trainable params: 3,750\n",
            "__________________________________________________________________________________________________\n"
          ]
        }
      ]
    },
    {
      "cell_type": "code",
      "source": [
        "classifier_input = Input(shape=(19,))\n",
        "encoded_input = encoder(classifier_input)\n",
        "x1=Dense(128,activation='relu')(encoded_input)\n",
        "x2=Dense(64,activation='relu')(x1)\n",
        "x3=Dense(32,activation='relu')(x2)\n",
        "x4=Dense(16,activation='relu')(x3)\n",
        "x5=Dense(8,activation='relu')(x4)\n",
        "x6=Dense(4,activation='relu')(x5)\n",
        "output_layer = Dense(1, activation='sigmoid')(x6)\n",
        "\n",
        "classifier = Model(classifier_input, output_layer)\n",
        "classifier.summary()\n",
        "classifier.compile(optimizer='adam', loss='binary_crossentropy', metrics=['accuracy'])\n",
        "classifier.fit(x_train, y_train, epochs=50, batch_size=32, validation_data=(x_val, y_val),callbacks=[es])\n"
      ],
      "metadata": {
        "id": "3ga3NymszHzx",
        "colab": {
          "base_uri": "https://localhost:8080/"
        },
        "outputId": "e19c82a0-7305-41e0-88d5-1b0c8cd81580"
      },
      "execution_count": null,
      "outputs": [
        {
          "output_type": "stream",
          "name": "stdout",
          "text": [
            "Model: \"model_15\"\n",
            "_________________________________________________________________\n",
            " Layer (type)                Output Shape              Param #   \n",
            "=================================================================\n",
            " input_8 (InputLayer)        [(None, 19)]              0         \n",
            "                                                                 \n",
            " model_14 (Functional)       (None, 19)                3750      \n",
            "                                                                 \n",
            " dense_60 (Dense)            (None, 128)               2560      \n",
            "                                                                 \n",
            " dense_61 (Dense)            (None, 64)                8256      \n",
            "                                                                 \n",
            " dense_62 (Dense)            (None, 32)                2080      \n",
            "                                                                 \n",
            " dense_63 (Dense)            (None, 16)                528       \n",
            "                                                                 \n",
            " dense_64 (Dense)            (None, 8)                 136       \n",
            "                                                                 \n",
            " dense_65 (Dense)            (None, 4)                 36        \n",
            "                                                                 \n",
            " dense_66 (Dense)            (None, 1)                 5         \n",
            "                                                                 \n",
            "=================================================================\n",
            "Total params: 17,351\n",
            "Trainable params: 13,601\n",
            "Non-trainable params: 3,750\n",
            "_________________________________________________________________\n",
            "Epoch 1/50\n",
            "175/175 [==============================] - 2s 4ms/step - loss: 0.5507 - accuracy: 0.7369 - val_loss: 0.4856 - val_accuracy: 0.7745\n",
            "Epoch 2/50\n",
            "175/175 [==============================] - 0s 3ms/step - loss: 0.4619 - accuracy: 0.7822 - val_loss: 0.5055 - val_accuracy: 0.7552\n",
            "Epoch 3/50\n",
            "175/175 [==============================] - 0s 3ms/step - loss: 0.4517 - accuracy: 0.7865 - val_loss: 0.4729 - val_accuracy: 0.7738\n",
            "Epoch 4/50\n",
            "175/175 [==============================] - 0s 3ms/step - loss: 0.4399 - accuracy: 0.7923 - val_loss: 0.4689 - val_accuracy: 0.7831\n",
            "Epoch 5/50\n",
            "175/175 [==============================] - 0s 3ms/step - loss: 0.4288 - accuracy: 0.8012 - val_loss: 0.4726 - val_accuracy: 0.7845\n",
            "Epoch 6/50\n",
            "175/175 [==============================] - 0s 3ms/step - loss: 0.4193 - accuracy: 0.8091 - val_loss: 0.4366 - val_accuracy: 0.8031\n",
            "Epoch 7/50\n",
            "175/175 [==============================] - 0s 3ms/step - loss: 0.4109 - accuracy: 0.8127 - val_loss: 0.4450 - val_accuracy: 0.8053\n",
            "Epoch 8/50\n",
            "175/175 [==============================] - 1s 4ms/step - loss: 0.4043 - accuracy: 0.8166 - val_loss: 0.4444 - val_accuracy: 0.7974\n",
            "Epoch 9/50\n",
            "175/175 [==============================] - 1s 4ms/step - loss: 0.3993 - accuracy: 0.8252 - val_loss: 0.4304 - val_accuracy: 0.8203\n",
            "Epoch 10/50\n",
            "175/175 [==============================] - 1s 4ms/step - loss: 0.3943 - accuracy: 0.8234 - val_loss: 0.4319 - val_accuracy: 0.8031\n",
            "Epoch 11/50\n",
            "175/175 [==============================] - 1s 4ms/step - loss: 0.3890 - accuracy: 0.8266 - val_loss: 0.4438 - val_accuracy: 0.8074\n",
            "Epoch 12/50\n",
            "175/175 [==============================] - 1s 5ms/step - loss: 0.3934 - accuracy: 0.8222 - val_loss: 0.4221 - val_accuracy: 0.8110\n",
            "Epoch 13/50\n",
            "175/175 [==============================] - 1s 5ms/step - loss: 0.3841 - accuracy: 0.8352 - val_loss: 0.4342 - val_accuracy: 0.8132\n",
            "Epoch 14/50\n",
            "175/175 [==============================] - 0s 3ms/step - loss: 0.3794 - accuracy: 0.8367 - val_loss: 0.4379 - val_accuracy: 0.8003\n",
            "Epoch 15/50\n",
            "175/175 [==============================] - 0s 3ms/step - loss: 0.3843 - accuracy: 0.8279 - val_loss: 0.4350 - val_accuracy: 0.8010\n",
            "Epoch 16/50\n",
            "175/175 [==============================] - 0s 3ms/step - loss: 0.3758 - accuracy: 0.8347 - val_loss: 0.4340 - val_accuracy: 0.8082\n",
            "Epoch 17/50\n",
            "175/175 [==============================] - 0s 3ms/step - loss: 0.3732 - accuracy: 0.8392 - val_loss: 0.4328 - val_accuracy: 0.8125\n",
            "Epoch 18/50\n",
            "175/175 [==============================] - 0s 3ms/step - loss: 0.3650 - accuracy: 0.8401 - val_loss: 0.4230 - val_accuracy: 0.8232\n",
            "Epoch 19/50\n",
            "175/175 [==============================] - 0s 3ms/step - loss: 0.3663 - accuracy: 0.8429 - val_loss: 0.4294 - val_accuracy: 0.8168\n",
            "Epoch 20/50\n",
            "175/175 [==============================] - 0s 3ms/step - loss: 0.3638 - accuracy: 0.8415 - val_loss: 0.4461 - val_accuracy: 0.8067\n",
            "Epoch 21/50\n",
            "175/175 [==============================] - 0s 3ms/step - loss: 0.3638 - accuracy: 0.8429 - val_loss: 0.4152 - val_accuracy: 0.8253\n",
            "Epoch 22/50\n",
            "175/175 [==============================] - 0s 3ms/step - loss: 0.3602 - accuracy: 0.8449 - val_loss: 0.4130 - val_accuracy: 0.8153\n",
            "Epoch 23/50\n",
            "175/175 [==============================] - 0s 3ms/step - loss: 0.3606 - accuracy: 0.8438 - val_loss: 0.4208 - val_accuracy: 0.8232\n",
            "Epoch 24/50\n",
            "175/175 [==============================] - 0s 3ms/step - loss: 0.3533 - accuracy: 0.8503 - val_loss: 0.4348 - val_accuracy: 0.8117\n",
            "Epoch 25/50\n",
            "175/175 [==============================] - 0s 3ms/step - loss: 0.3597 - accuracy: 0.8480 - val_loss: 0.4281 - val_accuracy: 0.8089\n",
            "Epoch 26/50\n",
            "175/175 [==============================] - 0s 3ms/step - loss: 0.3534 - accuracy: 0.8463 - val_loss: 0.4149 - val_accuracy: 0.8232\n",
            "Epoch 27/50\n",
            "175/175 [==============================] - 0s 3ms/step - loss: 0.3493 - accuracy: 0.8485 - val_loss: 0.4200 - val_accuracy: 0.8189\n",
            "Epoch 28/50\n",
            "175/175 [==============================] - 1s 3ms/step - loss: 0.3497 - accuracy: 0.8469 - val_loss: 0.4327 - val_accuracy: 0.8182\n",
            "Epoch 29/50\n",
            "175/175 [==============================] - 1s 3ms/step - loss: 0.3433 - accuracy: 0.8521 - val_loss: 0.4226 - val_accuracy: 0.8182\n",
            "Epoch 30/50\n",
            "175/175 [==============================] - 0s 3ms/step - loss: 0.3445 - accuracy: 0.8528 - val_loss: 0.4131 - val_accuracy: 0.8268\n",
            "Epoch 31/50\n",
            "175/175 [==============================] - 0s 3ms/step - loss: 0.3461 - accuracy: 0.8503 - val_loss: 0.4297 - val_accuracy: 0.8232\n",
            "Epoch 32/50\n",
            "175/175 [==============================] - 0s 3ms/step - loss: 0.3356 - accuracy: 0.8544 - val_loss: 0.4402 - val_accuracy: 0.8168\n",
            "Epoch 32: early stopping\n"
          ]
        },
        {
          "output_type": "execute_result",
          "data": {
            "text/plain": [
              "<keras.callbacks.History at 0x7f2281b852e0>"
            ]
          },
          "metadata": {},
          "execution_count": 110
        }
      ]
    },
    {
      "cell_type": "markdown",
      "source": [
        "# Measuring Accuracy"
      ],
      "metadata": {
        "id": "mM6xcNVc-rgv"
      }
    },
    {
      "cell_type": "code",
      "source": [
        "accuracy = classifier.evaluate(x_train, y_train)[1]\n",
        "print(f\"Train accuracy: {round(accuracy * 100, 2)}%\")"
      ],
      "metadata": {
        "id": "Nt13ZEodJ02D",
        "colab": {
          "base_uri": "https://localhost:8080/"
        },
        "outputId": "7936cb4c-d3e7-42db-a8ee-b1c4e00b507c"
      },
      "execution_count": null,
      "outputs": [
        {
          "output_type": "stream",
          "name": "stdout",
          "text": [
            "175/175 [==============================] - 0s 2ms/step - loss: 0.3329 - accuracy: 0.8598\n",
            "Train accuracy: 85.98%\n"
          ]
        }
      ]
    },
    {
      "cell_type": "code",
      "source": [
        "accuracy = classifier.evaluate(x_test, y_test)[1]\n",
        "print(f\"Test accuracy: {round(accuracy * 100, 2)}%\")"
      ],
      "metadata": {
        "id": "IdCYRqFGJMcw",
        "colab": {
          "base_uri": "https://localhost:8080/"
        },
        "outputId": "897febc9-07a6-4de3-c231-892673efb87c"
      },
      "execution_count": null,
      "outputs": [
        {
          "output_type": "stream",
          "name": "stdout",
          "text": [
            "196/196 [==============================] - 0s 2ms/step - loss: 0.4201 - accuracy: 0.8211\n",
            "Test accuracy: 82.11%\n"
          ]
        }
      ]
    }
  ]
}